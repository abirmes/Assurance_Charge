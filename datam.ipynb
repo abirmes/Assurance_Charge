{
 "cells": [
  {
   "cell_type": "markdown",
   "id": "29ba29b3",
   "metadata": {},
   "source": [
    "importing libraries"
   ]
  },
  {
   "cell_type": "code",
   "execution_count": 28,
   "id": "099632e9",
   "metadata": {},
   "outputs": [],
   "source": [
    "from sklearn.impute import SimpleImputer\n",
    "import numpy as np\n",
    "import pandas as pd\n",
    "import seaborn as sns\n",
    "import matplotlib.pyplot as plt"
   ]
  },
  {
   "cell_type": "markdown",
   "id": "7c1e8032",
   "metadata": {},
   "source": [
    "get data from assurance_maladie.csv"
   ]
  },
  {
   "cell_type": "code",
   "execution_count": null,
   "id": "6da0b79a",
   "metadata": {},
   "outputs": [
    {
     "name": "stdout",
     "output_type": "stream",
     "text": [
      "<class 'pandas.core.frame.DataFrame'>\n",
      "RangeIndex: 1338 entries, 0 to 1337\n",
      "Data columns (total 7 columns):\n",
      " #   Column    Non-Null Count  Dtype  \n",
      "---  ------    --------------  -----  \n",
      " 0   age       1338 non-null   int64  \n",
      " 1   sex       1338 non-null   object \n",
      " 2   bmi       1338 non-null   float64\n",
      " 3   children  1338 non-null   int64  \n",
      " 4   smoker    1338 non-null   object \n",
      " 5   region    1338 non-null   object \n",
      " 6   charges   1338 non-null   float64\n",
      "dtypes: float64(2), int64(2), object(3)\n",
      "memory usage: 73.3+ KB\n"
     ]
    },
    {
     "data": {
      "text/html": [
       "<div>\n",
       "<style scoped>\n",
       "    .dataframe tbody tr th:only-of-type {\n",
       "        vertical-align: middle;\n",
       "    }\n",
       "\n",
       "    .dataframe tbody tr th {\n",
       "        vertical-align: top;\n",
       "    }\n",
       "\n",
       "    .dataframe thead th {\n",
       "        text-align: right;\n",
       "    }\n",
       "</style>\n",
       "<table border=\"1\" class=\"dataframe\">\n",
       "  <thead>\n",
       "    <tr style=\"text-align: right;\">\n",
       "      <th></th>\n",
       "      <th>age</th>\n",
       "      <th>bmi</th>\n",
       "      <th>children</th>\n",
       "      <th>charges</th>\n",
       "    </tr>\n",
       "  </thead>\n",
       "  <tbody>\n",
       "    <tr>\n",
       "      <th>count</th>\n",
       "      <td>1338.000000</td>\n",
       "      <td>1338.000000</td>\n",
       "      <td>1338.000000</td>\n",
       "      <td>1338.000000</td>\n",
       "    </tr>\n",
       "    <tr>\n",
       "      <th>mean</th>\n",
       "      <td>39.207025</td>\n",
       "      <td>30.663397</td>\n",
       "      <td>1.094918</td>\n",
       "      <td>13270.422265</td>\n",
       "    </tr>\n",
       "    <tr>\n",
       "      <th>std</th>\n",
       "      <td>14.049960</td>\n",
       "      <td>6.098187</td>\n",
       "      <td>1.205493</td>\n",
       "      <td>12110.011237</td>\n",
       "    </tr>\n",
       "    <tr>\n",
       "      <th>min</th>\n",
       "      <td>18.000000</td>\n",
       "      <td>15.960000</td>\n",
       "      <td>0.000000</td>\n",
       "      <td>1121.873900</td>\n",
       "    </tr>\n",
       "    <tr>\n",
       "      <th>25%</th>\n",
       "      <td>27.000000</td>\n",
       "      <td>26.296250</td>\n",
       "      <td>0.000000</td>\n",
       "      <td>4740.287150</td>\n",
       "    </tr>\n",
       "    <tr>\n",
       "      <th>50%</th>\n",
       "      <td>39.000000</td>\n",
       "      <td>30.400000</td>\n",
       "      <td>1.000000</td>\n",
       "      <td>9382.033000</td>\n",
       "    </tr>\n",
       "    <tr>\n",
       "      <th>75%</th>\n",
       "      <td>51.000000</td>\n",
       "      <td>34.693750</td>\n",
       "      <td>2.000000</td>\n",
       "      <td>16639.912515</td>\n",
       "    </tr>\n",
       "    <tr>\n",
       "      <th>max</th>\n",
       "      <td>64.000000</td>\n",
       "      <td>53.130000</td>\n",
       "      <td>5.000000</td>\n",
       "      <td>63770.428010</td>\n",
       "    </tr>\n",
       "  </tbody>\n",
       "</table>\n",
       "</div>"
      ],
      "text/plain": [
       "               age          bmi     children       charges\n",
       "count  1338.000000  1338.000000  1338.000000   1338.000000\n",
       "mean     39.207025    30.663397     1.094918  13270.422265\n",
       "std      14.049960     6.098187     1.205493  12110.011237\n",
       "min      18.000000    15.960000     0.000000   1121.873900\n",
       "25%      27.000000    26.296250     0.000000   4740.287150\n",
       "50%      39.000000    30.400000     1.000000   9382.033000\n",
       "75%      51.000000    34.693750     2.000000  16639.912515\n",
       "max      64.000000    53.130000     5.000000  63770.428010"
      ]
     },
     "execution_count": 3,
     "metadata": {},
     "output_type": "execute_result"
    }
   ],
   "source": [
    "df = pd.read_csv('assurance_maladie.csv')\n",
    "df.shape # Returns (number_of_rows, number_of_columns)\n",
    "df.info() #serves as a quick and effective tool during EDA to get a\n",
    "#high-level overview of the\n",
    "#dataset's characteristics, data types, and the presence of missing values,\n",
    "df.describe() #statistical summary of numerical columns, including count, mean, standard deviation, min, and max values.\n"
   ]
  },
  {
   "cell_type": "markdown",
   "id": "1ed1da66",
   "metadata": {},
   "source": [
    "get and remove duplicates\n"
   ]
  },
  {
   "cell_type": "code",
   "execution_count": 4,
   "id": "c308ec6b",
   "metadata": {},
   "outputs": [
    {
     "name": "stdout",
     "output_type": "stream",
     "text": [
      "0       False\n",
      "1       False\n",
      "2       False\n",
      "3       False\n",
      "4       False\n",
      "        ...  \n",
      "1333    False\n",
      "1334    False\n",
      "1335    False\n",
      "1336    False\n",
      "1337    False\n",
      "Length: 1338, dtype: bool\n",
      "      age     sex     bmi  children smoker     region      charges\n",
      "0      19  female  27.900         0    yes  southwest  16884.92400\n",
      "1      18    male  33.770         1     no  southeast   1725.55230\n",
      "2      28    male  33.000         3     no  southeast   4449.46200\n",
      "3      33    male  22.705         0     no  northwest  21984.47061\n",
      "4      32    male  28.880         0     no  northwest   3866.85520\n",
      "...   ...     ...     ...       ...    ...        ...          ...\n",
      "1333   50    male  30.970         3     no  northwest  10600.54830\n",
      "1334   18  female  31.920         0     no  northeast   2205.98080\n",
      "1335   18  female  36.850         0     no  southeast   1629.83350\n",
      "1336   21  female  25.800         0     no  southwest   2007.94500\n",
      "1337   61  female  29.070         0    yes  northwest  29141.36030\n",
      "\n",
      "[1337 rows x 7 columns]\n"
     ]
    }
   ],
   "source": [
    "duplicates = df.duplicated() # Get duplicates\n",
    "print(duplicates)\n",
    "df = df.drop_duplicates() #Remove Duplicates\n",
    "print(df)"
   ]
  },
  {
   "cell_type": "markdown",
   "id": "3ae289a4",
   "metadata": {},
   "source": [
    "identifying missing values"
   ]
  },
  {
   "cell_type": "code",
   "execution_count": 5,
   "id": "7bc95061",
   "metadata": {},
   "outputs": [
    {
     "name": "stdout",
     "output_type": "stream",
     "text": [
      "age         0\n",
      "sex         0\n",
      "bmi         0\n",
      "children    0\n",
      "smoker      0\n",
      "region      0\n",
      "charges     0\n",
      "dtype: int64\n"
     ]
    }
   ],
   "source": [
    "missing_values = df.isnull().sum() #Identifying Missing Values: The isnull() method, combined with sum(), helps identify missing values in each column.\n",
    "print(missing_values)"
   ]
  },
  {
   "cell_type": "markdown",
   "id": "92e919b4",
   "metadata": {},
   "source": [
    "using seaborn: easier syntax , high_level library "
   ]
  },
  {
   "cell_type": "code",
   "execution_count": 6,
   "id": "5ec2ca08",
   "metadata": {},
   "outputs": [
    {
     "data": {
      "image/png": "[encoded data removed]",
      "text/plain": [
       "<Figure size 640x480 with 1 Axes>"
      ]
     },
     "metadata": {},
     "output_type": "display_data"
    }
   ],
   "source": [
    "sns.scatterplot(data=df, x=\"age\", y=\"charges\") #Scatter Plot: To show the relationship between two numerical variables.\n",
    "plt.show()"
   ]
  },
  {
   "cell_type": "code",
   "execution_count": 7,
   "id": "88747cba",
   "metadata": {},
   "outputs": [
    {
     "data": {
      "image/png": "[encoded data removed]",
      "text/plain": [
       "<Figure size 640x480 with 1 Axes>"
      ]
     },
     "metadata": {},
     "output_type": "display_data"
    }
   ],
   "source": [
    "#Bar Plot: To display the average of a numerical variable across different categories.\n",
    "sns.barplot(data=df, x=\"sex\", y=\"charges\")\n",
    "plt.show()"
   ]
  },
  {
   "cell_type": "code",
   "execution_count": null,
   "id": "b8b93a01",
   "metadata": {},
   "outputs": [
    {
     "data": {
      "image/png": "[encoded data removed]",
      "text/plain": [
       "<Figure size 500x500 with 1 Axes>"
      ]
     },
     "metadata": {},
     "output_type": "display_data"
    }
   ],
   "source": [
    "#Distribution Plot (Displot): To visualize the distribution of a single numerical variable.\n",
    "sns.displot(data=df, x=\"age\", kind=\"hist\") # 'kind' can be 'hist', 'kde', 'ecdf'\n",
    "plt.show()"
   ]
  },
  {
   "cell_type": "markdown",
   "id": "3164eda8",
   "metadata": {},
   "source": [
    "Best Use Cases:\n",
    "\n",
    "Pairplots: Ideal for initial exploration of a dataset with a moderate number of numerical variables to understand individual distributions and pairwise interactions.\n",
    "\n",
    "Heatmaps: Particularly useful for visualizing correlation matrices, especially in datasets with a larger number of variables where examining every scatterplot would be overwhelming, or to quickly identify highly correlated features for feature engineering or model building.\n"
   ]
  },
  {
   "cell_type": "markdown",
   "id": "ac1356d7",
   "metadata": {},
   "source": [
    "using heatmaps\n"
   ]
  },
  {
   "cell_type": "code",
   "execution_count": 23,
   "id": "24bdc675",
   "metadata": {},
   "outputs": [
    {
     "data": {
      "image/png": "[encoded data removed]",
      "text/plain": [
       "<Figure size 640x480 with 2 Axes>"
      ]
     },
     "metadata": {},
     "output_type": "display_data"
    }
   ],
   "source": [
    "selected_columns = ['age' , 'bmi' , 'children' , 'charges']\n",
    "df_num = df[selected_columns]\n",
    "sns.heatmap(df_num.corr() , annot=True , cmap=\"Blues\" , fmt=\".2f\" )\n",
    "plt.show()\n"
   ]
  },
  {
   "cell_type": "markdown",
   "id": "cbd8fd5b",
   "metadata": {},
   "source": [
    "imputation: \n"
   ]
  },
  {
   "cell_type": "code",
   "execution_count": 30,
   "id": "0fb4b576",
   "metadata": {},
   "outputs": [
    {
     "name": "stdout",
     "output_type": "stream",
     "text": [
      "       age     sex     bmi  children smoker     region      charges\n",
      "0     19.0  female  27.900       0.0    yes  southwest  16884.92400\n",
      "1     18.0    male  33.770       1.0     no  southeast   1725.55230\n",
      "2     28.0    male  33.000       3.0     no  southeast   4449.46200\n",
      "3     33.0    male  22.705       0.0     no  northwest  21984.47061\n",
      "4     32.0    male  28.880       0.0     no  northwest   3866.85520\n",
      "...    ...     ...     ...       ...    ...        ...          ...\n",
      "1333  50.0    male  30.970       3.0     no  northwest  10600.54830\n",
      "1334  18.0  female  31.920       0.0     no  northeast   2205.98080\n",
      "1335  18.0  female  36.850       0.0     no  southeast   1629.83350\n",
      "1336  21.0  female  25.800       0.0     no  southwest   2007.94500\n",
      "1337  61.0  female  29.070       0.0    yes  northwest  29141.36030\n",
      "\n",
      "[1337 rows x 7 columns]\n",
      "\n",
      "DataFrame after mode imputation:\n",
      "       age     sex     bmi  children smoker     region      charges\n",
      "0     19.0  female  27.900       0.0    yes  southwest  16884.92400\n",
      "1     18.0    male  33.770       1.0     no  southeast   1725.55230\n",
      "2     28.0    male  33.000       3.0     no  southeast   4449.46200\n",
      "3     33.0    male  22.705       0.0     no  northwest  21984.47061\n",
      "4     32.0    male  28.880       0.0     no  northwest   3866.85520\n",
      "...    ...     ...     ...       ...    ...        ...          ...\n",
      "1333  50.0    male  30.970       3.0     no  northwest  10600.54830\n",
      "1334  18.0  female  31.920       0.0     no  northeast   2205.98080\n",
      "1335  18.0  female  36.850       0.0     no  southeast   1629.83350\n",
      "1336  21.0  female  25.800       0.0     no  southwest   2007.94500\n",
      "1337  61.0  female  29.070       0.0    yes  northwest  29141.36030\n",
      "\n",
      "[1337 rows x 7 columns]\n"
     ]
    },
    {
     "name": "stderr",
     "output_type": "stream",
     "text": [
      "C:\\Users\\abirm\\AppData\\Local\\Temp\\ipykernel_30724\\3897998476.py:12: SettingWithCopyWarning: \n",
      "A value is trying to be set on a copy of a slice from a DataFrame\n",
      "\n",
      "See the caveats in the documentation: https://pandas.pydata.org/pandas-docs/stable/user_guide/indexing.html#returning-a-view-versus-a-copy\n",
      "  df[selected_columns_string].fillna(mode_category, inplace=True)\n"
     ]
    }
   ],
   "source": [
    "selected_columns_nums = ['age' , 'bmi' , 'children' , 'charges']\n",
    "\n",
    "imputer_mean = SimpleImputer(strategy='mean')\n",
    "df[selected_columns_nums] = imputer_mean.fit_transform(df[selected_columns_nums])\n",
    "print(df)\n",
    "\n",
    "selected_columns_string = ['sex' , 'smoker' , 'region']\n",
    "\n",
    "mode_category = df[selected_columns_string[0]].mode()[0]\n",
    "\n",
    "# Fill missing values with the calculated mode\n",
    "df[selected_columns_string].fillna(mode_category, inplace=True)\n",
    "\n",
    "print(\"\\nDataFrame after mode imputation:\")\n",
    "print(df)\n"
   ]
  },
  {
   "cell_type": "markdown",
   "id": "de549910",
   "metadata": {},
   "source": [
    "Détection et gestion des valeurs aberrantes"
   ]
  },
  {
   "cell_type": "code",
   "execution_count": 42,
   "id": "85cd2620",
   "metadata": {},
   "outputs": [
    {
     "data": {
      "text/plain": [
       "<Axes: title={'center': 'charges'}, xlabel='region'>"
      ]
     },
     "execution_count": 42,
     "metadata": {},
     "output_type": "execute_result"
    },
    {
     "data": {
      "image/png": "[encoded data removed]",
      "text/plain": [
       "<Figure size 640x480 with 1 Axes>"
      ]
     },
     "metadata": {},
     "output_type": "display_data"
    }
   ],
   "source": [
    "df.boxplot(by ='region', column =['charges'], grid = False)"
   ]
  },
  {
   "cell_type": "markdown",
   "id": "640ea3ea",
   "metadata": {},
   "source": [
    "one hot encoding:\n"
   ]
  },
  {
   "cell_type": "code",
   "execution_count": 44,
   "id": "ff05cbb4",
   "metadata": {},
   "outputs": [
    {
     "name": "stdout",
     "output_type": "stream",
     "text": [
      "['sex', 'smoker', 'region']\n"
     ]
    }
   ],
   "source": [
    "catg_cols = df.select_dtypes(include='object').columns.to_list()\n",
    "print(catg_cols)"
   ]
  },
  {
   "cell_type": "code",
   "execution_count": 59,
   "id": "594f6528",
   "metadata": {},
   "outputs": [
    {
     "name": "stdout",
     "output_type": "stream",
     "text": [
      "      sex_female  sex_male  smoker_no  smoker_yes  region_northeast  \\\n",
      "0            1.0       0.0        0.0         1.0               0.0   \n",
      "1            0.0       1.0        1.0         0.0               0.0   \n",
      "2            0.0       1.0        1.0         0.0               0.0   \n",
      "3            0.0       1.0        1.0         0.0               0.0   \n",
      "4            0.0       1.0        1.0         0.0               0.0   \n",
      "...          ...       ...        ...         ...               ...   \n",
      "1333         0.0       1.0        1.0         0.0               0.0   \n",
      "1334         1.0       0.0        1.0         0.0               1.0   \n",
      "1335         1.0       0.0        1.0         0.0               0.0   \n",
      "1336         1.0       0.0        1.0         0.0               0.0   \n",
      "1337         1.0       0.0        0.0         1.0               0.0   \n",
      "\n",
      "      region_northwest  region_southeast  region_southwest  \n",
      "0                  0.0               0.0               1.0  \n",
      "1                  0.0               1.0               0.0  \n",
      "2                  0.0               1.0               0.0  \n",
      "3                  1.0               0.0               0.0  \n",
      "4                  1.0               0.0               0.0  \n",
      "...                ...               ...               ...  \n",
      "1333               1.0               0.0               0.0  \n",
      "1334               0.0               0.0               0.0  \n",
      "1335               0.0               1.0               0.0  \n",
      "1336               0.0               0.0               1.0  \n",
      "1337               1.0               0.0               0.0  \n",
      "\n",
      "[1337 rows x 8 columns]\n"
     ]
    }
   ],
   "source": [
    "from sklearn.preprocessing import OneHotEncoder\n",
    "encoder = OneHotEncoder(sparse_output=False , handle_unknown='ignore' )\n",
    "encoder.fit(df[catg_cols])\n",
    "\n",
    "encoded_cols = list(encoder.get_feature_names_out(catg_cols))\n",
    "df[encoded_cols] = encoder.transform(df[catg_cols])\n",
    "print(df[encoded_cols])"
   ]
  },
  {
   "cell_type": "markdown",
   "id": "c3c16af6",
   "metadata": {},
   "source": [
    "split data"
   ]
  },
  {
   "cell_type": "code",
   "execution_count": 80,
   "id": "c2694a87",
   "metadata": {},
   "outputs": [
    {
     "data": {
      "text/html": [
       "<div>\n",
       "<style scoped>\n",
       "    .dataframe tbody tr th:only-of-type {\n",
       "        vertical-align: middle;\n",
       "    }\n",
       "\n",
       "    .dataframe tbody tr th {\n",
       "        vertical-align: top;\n",
       "    }\n",
       "\n",
       "    .dataframe thead th {\n",
       "        text-align: right;\n",
       "    }\n",
       "</style>\n",
       "<table border=\"1\" class=\"dataframe\">\n",
       "  <thead>\n",
       "    <tr style=\"text-align: right;\">\n",
       "      <th></th>\n",
       "      <th>children</th>\n",
       "      <th>charges</th>\n",
       "      <th>sex_female</th>\n",
       "      <th>sex_male</th>\n",
       "      <th>smoker_no</th>\n",
       "      <th>smoker_yes</th>\n",
       "      <th>region_northeast</th>\n",
       "      <th>region_northwest</th>\n",
       "      <th>region_southeast</th>\n",
       "      <th>region_southwest</th>\n",
       "    </tr>\n",
       "  </thead>\n",
       "  <tbody>\n",
       "    <tr>\n",
       "      <th>count</th>\n",
       "      <td>1069.000</td>\n",
       "      <td>1069.000</td>\n",
       "      <td>1069.00</td>\n",
       "      <td>1069.00</td>\n",
       "      <td>1069.000</td>\n",
       "      <td>1069.000</td>\n",
       "      <td>1069.000</td>\n",
       "      <td>1069.000</td>\n",
       "      <td>1069.000</td>\n",
       "      <td>1069.000</td>\n",
       "    </tr>\n",
       "    <tr>\n",
       "      <th>mean</th>\n",
       "      <td>1.080</td>\n",
       "      <td>13563.281</td>\n",
       "      <td>0.49</td>\n",
       "      <td>0.51</td>\n",
       "      <td>0.790</td>\n",
       "      <td>0.210</td>\n",
       "      <td>0.246</td>\n",
       "      <td>0.237</td>\n",
       "      <td>0.267</td>\n",
       "      <td>0.251</td>\n",
       "    </tr>\n",
       "    <tr>\n",
       "      <th>std</th>\n",
       "      <td>1.202</td>\n",
       "      <td>12254.049</td>\n",
       "      <td>0.50</td>\n",
       "      <td>0.50</td>\n",
       "      <td>0.407</td>\n",
       "      <td>0.407</td>\n",
       "      <td>0.431</td>\n",
       "      <td>0.425</td>\n",
       "      <td>0.442</td>\n",
       "      <td>0.434</td>\n",
       "    </tr>\n",
       "    <tr>\n",
       "      <th>min</th>\n",
       "      <td>0.000</td>\n",
       "      <td>1121.874</td>\n",
       "      <td>0.00</td>\n",
       "      <td>0.00</td>\n",
       "      <td>0.000</td>\n",
       "      <td>0.000</td>\n",
       "      <td>0.000</td>\n",
       "      <td>0.000</td>\n",
       "      <td>0.000</td>\n",
       "      <td>0.000</td>\n",
       "    </tr>\n",
       "    <tr>\n",
       "      <th>25%</th>\n",
       "      <td>0.000</td>\n",
       "      <td>4883.866</td>\n",
       "      <td>0.00</td>\n",
       "      <td>0.00</td>\n",
       "      <td>1.000</td>\n",
       "      <td>0.000</td>\n",
       "      <td>0.000</td>\n",
       "      <td>0.000</td>\n",
       "      <td>0.000</td>\n",
       "      <td>0.000</td>\n",
       "    </tr>\n",
       "    <tr>\n",
       "      <th>50%</th>\n",
       "      <td>1.000</td>\n",
       "      <td>9617.662</td>\n",
       "      <td>0.00</td>\n",
       "      <td>1.00</td>\n",
       "      <td>1.000</td>\n",
       "      <td>0.000</td>\n",
       "      <td>0.000</td>\n",
       "      <td>0.000</td>\n",
       "      <td>0.000</td>\n",
       "      <td>0.000</td>\n",
       "    </tr>\n",
       "    <tr>\n",
       "      <th>75%</th>\n",
       "      <td>2.000</td>\n",
       "      <td>17748.506</td>\n",
       "      <td>1.00</td>\n",
       "      <td>1.00</td>\n",
       "      <td>1.000</td>\n",
       "      <td>0.000</td>\n",
       "      <td>0.000</td>\n",
       "      <td>0.000</td>\n",
       "      <td>1.000</td>\n",
       "      <td>1.000</td>\n",
       "    </tr>\n",
       "    <tr>\n",
       "      <th>max</th>\n",
       "      <td>5.000</td>\n",
       "      <td>63770.428</td>\n",
       "      <td>1.00</td>\n",
       "      <td>1.00</td>\n",
       "      <td>1.000</td>\n",
       "      <td>1.000</td>\n",
       "      <td>1.000</td>\n",
       "      <td>1.000</td>\n",
       "      <td>1.000</td>\n",
       "      <td>1.000</td>\n",
       "    </tr>\n",
       "  </tbody>\n",
       "</table>\n",
       "</div>"
      ],
      "text/plain": [
       "       children    charges  sex_female  sex_male  smoker_no  smoker_yes  \\\n",
       "count  1069.000   1069.000     1069.00   1069.00   1069.000    1069.000   \n",
       "mean      1.080  13563.281        0.49      0.51      0.790       0.210   \n",
       "std       1.202  12254.049        0.50      0.50      0.407       0.407   \n",
       "min       0.000   1121.874        0.00      0.00      0.000       0.000   \n",
       "25%       0.000   4883.866        0.00      0.00      1.000       0.000   \n",
       "50%       1.000   9617.662        0.00      1.00      1.000       0.000   \n",
       "75%       2.000  17748.506        1.00      1.00      1.000       0.000   \n",
       "max       5.000  63770.428        1.00      1.00      1.000       1.000   \n",
       "\n",
       "       region_northeast  region_northwest  region_southeast  region_southwest  \n",
       "count          1069.000          1069.000          1069.000          1069.000  \n",
       "mean              0.246             0.237             0.267             0.251  \n",
       "std               0.431             0.425             0.442             0.434  \n",
       "min               0.000             0.000             0.000             0.000  \n",
       "25%               0.000             0.000             0.000             0.000  \n",
       "50%               0.000             0.000             0.000             0.000  \n",
       "75%               0.000             0.000             1.000             1.000  \n",
       "max               1.000             1.000             1.000             1.000  "
      ]
     },
     "execution_count": 80,
     "metadata": {},
     "output_type": "execute_result"
    }
   ],
   "source": [
    "from sklearn.model_selection import train_test_split\n",
    "X = df.drop(columns=['age' , 'bmi'])\n",
    "Y = df['bmi']\n",
    "X.head()\n",
    "Y.head()\n",
    "X.shape\n",
    "Y.shape\n",
    "X_train , X_test , Y_train , Y_test = train_test_split(X ,Y , random_state=11 , test_size=0.2)\n",
    "X_train.shape\n",
    "X_test.shape\n",
    "Y_train.shape\n",
    "Y_test.shape\n",
    "X_train.describe().round(3)\n",
    "\n"
   ]
  },
  {
   "cell_type": "markdown",
   "id": "4cce4194",
   "metadata": {},
   "source": [
    "Normalization vs Standardization"
   ]
  },
  {
   "cell_type": "code",
   "execution_count": 102,
   "id": "af78d397",
   "metadata": {},
   "outputs": [
    {
     "data": {
      "text/html": [
       "<div>\n",
       "<style scoped>\n",
       "    .dataframe tbody tr th:only-of-type {\n",
       "        vertical-align: middle;\n",
       "    }\n",
       "\n",
       "    .dataframe tbody tr th {\n",
       "        vertical-align: top;\n",
       "    }\n",
       "\n",
       "    .dataframe thead th {\n",
       "        text-align: right;\n",
       "    }\n",
       "</style>\n",
       "<table border=\"1\" class=\"dataframe\">\n",
       "  <thead>\n",
       "    <tr style=\"text-align: right;\">\n",
       "      <th></th>\n",
       "      <th>age</th>\n",
       "      <th>bmi</th>\n",
       "      <th>children</th>\n",
       "      <th>charges</th>\n",
       "    </tr>\n",
       "  </thead>\n",
       "  <tbody>\n",
       "    <tr>\n",
       "      <th>count</th>\n",
       "      <td>1338.000</td>\n",
       "      <td>1338.000</td>\n",
       "      <td>1338.000</td>\n",
       "      <td>1338.000</td>\n",
       "    </tr>\n",
       "    <tr>\n",
       "      <th>mean</th>\n",
       "      <td>-0.000</td>\n",
       "      <td>-0.000</td>\n",
       "      <td>-0.000</td>\n",
       "      <td>-0.000</td>\n",
       "    </tr>\n",
       "    <tr>\n",
       "      <th>std</th>\n",
       "      <td>1.000</td>\n",
       "      <td>1.000</td>\n",
       "      <td>1.000</td>\n",
       "      <td>1.000</td>\n",
       "    </tr>\n",
       "    <tr>\n",
       "      <th>min</th>\n",
       "      <td>-1.510</td>\n",
       "      <td>-2.412</td>\n",
       "      <td>-0.909</td>\n",
       "      <td>-1.004</td>\n",
       "    </tr>\n",
       "    <tr>\n",
       "      <th>25%</th>\n",
       "      <td>-0.869</td>\n",
       "      <td>-0.716</td>\n",
       "      <td>-0.909</td>\n",
       "      <td>-0.705</td>\n",
       "    </tr>\n",
       "    <tr>\n",
       "      <th>50%</th>\n",
       "      <td>-0.015</td>\n",
       "      <td>-0.043</td>\n",
       "      <td>-0.079</td>\n",
       "      <td>-0.321</td>\n",
       "    </tr>\n",
       "    <tr>\n",
       "      <th>75%</th>\n",
       "      <td>0.840</td>\n",
       "      <td>0.661</td>\n",
       "      <td>0.751</td>\n",
       "      <td>0.278</td>\n",
       "    </tr>\n",
       "    <tr>\n",
       "      <th>max</th>\n",
       "      <td>1.765</td>\n",
       "      <td>3.686</td>\n",
       "      <td>3.241</td>\n",
       "      <td>4.172</td>\n",
       "    </tr>\n",
       "  </tbody>\n",
       "</table>\n",
       "</div>"
      ],
      "text/plain": [
       "            age       bmi  children   charges\n",
       "count  1338.000  1338.000  1338.000  1338.000\n",
       "mean     -0.000    -0.000    -0.000    -0.000\n",
       "std       1.000     1.000     1.000     1.000\n",
       "min      -1.510    -2.412    -0.909    -1.004\n",
       "25%      -0.869    -0.716    -0.909    -0.705\n",
       "50%      -0.015    -0.043    -0.079    -0.321\n",
       "75%       0.840     0.661     0.751     0.278\n",
       "max       1.765     3.686     3.241     4.172"
      ]
     },
     "execution_count": 102,
     "metadata": {},
     "output_type": "execute_result"
    }
   ],
   "source": [
    "\n",
    "\n",
    "X1 = df[selected_columns_nums]\n",
    "X2 = df[selected_columns_nums]\n",
    "from sklearn.preprocessing import StandardScaler\n",
    "scaleStandard = StandardScaler()\n",
    "X1 = scaleStandard.fit_transform(X1)\n",
    "X1 = pd.DataFrame(X1 , columns=selected_columns_nums)\n",
    "X1.head()\n",
    "X1.describe().round(3)\n",
    "\n"
   ]
  },
  {
   "cell_type": "code",
   "execution_count": 101,
   "id": "850ffe19",
   "metadata": {},
   "outputs": [
    {
     "data": {
      "text/html": [
       "<div>\n",
       "<style scoped>\n",
       "    .dataframe tbody tr th:only-of-type {\n",
       "        vertical-align: middle;\n",
       "    }\n",
       "\n",
       "    .dataframe tbody tr th {\n",
       "        vertical-align: top;\n",
       "    }\n",
       "\n",
       "    .dataframe thead th {\n",
       "        text-align: right;\n",
       "    }\n",
       "</style>\n",
       "<table border=\"1\" class=\"dataframe\">\n",
       "  <thead>\n",
       "    <tr style=\"text-align: right;\">\n",
       "      <th></th>\n",
       "      <th>age</th>\n",
       "      <th>bmi</th>\n",
       "      <th>children</th>\n",
       "      <th>charges</th>\n",
       "    </tr>\n",
       "  </thead>\n",
       "  <tbody>\n",
       "    <tr>\n",
       "      <th>count</th>\n",
       "      <td>1338.000</td>\n",
       "      <td>1338.000</td>\n",
       "      <td>1338.000</td>\n",
       "      <td>1338.000</td>\n",
       "    </tr>\n",
       "    <tr>\n",
       "      <th>mean</th>\n",
       "      <td>0.461</td>\n",
       "      <td>0.396</td>\n",
       "      <td>0.219</td>\n",
       "      <td>0.194</td>\n",
       "    </tr>\n",
       "    <tr>\n",
       "      <th>std</th>\n",
       "      <td>0.305</td>\n",
       "      <td>0.164</td>\n",
       "      <td>0.241</td>\n",
       "      <td>0.193</td>\n",
       "    </tr>\n",
       "    <tr>\n",
       "      <th>min</th>\n",
       "      <td>0.000</td>\n",
       "      <td>0.000</td>\n",
       "      <td>0.000</td>\n",
       "      <td>0.000</td>\n",
       "    </tr>\n",
       "    <tr>\n",
       "      <th>25%</th>\n",
       "      <td>0.196</td>\n",
       "      <td>0.278</td>\n",
       "      <td>0.000</td>\n",
       "      <td>0.058</td>\n",
       "    </tr>\n",
       "    <tr>\n",
       "      <th>50%</th>\n",
       "      <td>0.457</td>\n",
       "      <td>0.388</td>\n",
       "      <td>0.200</td>\n",
       "      <td>0.132</td>\n",
       "    </tr>\n",
       "    <tr>\n",
       "      <th>75%</th>\n",
       "      <td>0.717</td>\n",
       "      <td>0.504</td>\n",
       "      <td>0.400</td>\n",
       "      <td>0.248</td>\n",
       "    </tr>\n",
       "    <tr>\n",
       "      <th>max</th>\n",
       "      <td>1.000</td>\n",
       "      <td>1.000</td>\n",
       "      <td>1.000</td>\n",
       "      <td>1.000</td>\n",
       "    </tr>\n",
       "  </tbody>\n",
       "</table>\n",
       "</div>"
      ],
      "text/plain": [
       "            age       bmi  children   charges\n",
       "count  1338.000  1338.000  1338.000  1338.000\n",
       "mean      0.461     0.396     0.219     0.194\n",
       "std       0.305     0.164     0.241     0.193\n",
       "min       0.000     0.000     0.000     0.000\n",
       "25%       0.196     0.278     0.000     0.058\n",
       "50%       0.457     0.388     0.200     0.132\n",
       "75%       0.717     0.504     0.400     0.248\n",
       "max       1.000     1.000     1.000     1.000"
      ]
     },
     "execution_count": 101,
     "metadata": {},
     "output_type": "execute_result"
    }
   ],
   "source": [
    "from sklearn.preprocessing import MinMaxScaler\n",
    "scaleminmax = MinMaxScaler(feature_range=(0,1))\n",
    "X2 = scaleminmax.fit_transform(X2)\n",
    "X2 = pd.DataFrame(X2 , columns=selected_columns_nums)\n",
    "X2.describe().round(3)"
   ]
  },
  {
   "cell_type": "markdown",
   "id": "45b9bf63",
   "metadata": {},
   "source": [
    "LinearRegression\n"
   ]
  },
  {
   "cell_type": "code",
   "execution_count": null,
   "id": "1ca15815",
   "metadata": {},
   "outputs": [],
   "source": [
    "#initialize the class\n",
    "class LinearRegression:\n",
    "    \"\"\"\n",
    "    A Linear Regression model with multiple training methods:\n",
    "    - Closed-Form Solution\n",
    "    - Gradient Descent\n",
    "    - Stochastic Gradient Descent (SGD)\n",
    "    - Mini-Batch Gradient Descent\n",
    "    \"\"\"\n",
    "    def __init__(self):\n",
    "        \"\"\"Initializes the model parameters (weights and bias) as None.\"\"\"\n",
    "        self.weights = None\n",
    "        self.bias = None\n",
    "        \n",
    "        \n",
    "    #method for parametre initialazition\n",
    "    def _initialize_params(self, n_features):\n",
    "        \"\"\"Initializes weights to zeros and bias to zero.\"\"\"\n",
    "        self.weights = np.zeros(n_features)\n",
    "        self.bias = 0.0\n",
    "        \n",
    "        \n",
    "    #closed form method\n",
    "    def fit_closed_form(self, X, y):\n",
    "        \"\"\"\n",
    "        Trains the model using the Closed-Form solution (Normal Equation).\n",
    "        \n",
    "        Parameters:\n",
    "        X (ndarray): Feature matrix.\n",
    "        y (ndarray): Target values.\n",
    "        \"\"\"\n",
    "        # Add a bias column (column of ones) to the feature matrix\n",
    "        X_b = np.c_[np.ones((X.shape[0], 1)), X]\n",
    "\n",
    "        # Compute the optimal parameters using the Normal Equation\n",
    "        params = np.linalg.inv(X_b.T @ X_b) @ X_b.T @ y\n",
    "        self.bias = params[0]\n",
    "        self.weights = params[1:]\n"
   ]
  }
 ],
 "metadata": {
  "kernelspec": {
   "display_name": "Python 3",
   "language": "python",
   "name": "python3"
  },
  "language_info": {
   "codemirror_mode": {
    "name": "ipython",
    "version": 3
   },
   "file_extension": ".py",
   "mimetype": "text/x-python",
   "name": "python",
   "nbconvert_exporter": "python",
   "pygments_lexer": "ipython3",
   "version": "3.13.7"
  }
 },
 "nbformat": 4,
 "nbformat_minor": 5
}
