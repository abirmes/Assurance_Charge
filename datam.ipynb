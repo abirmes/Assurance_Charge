{
 "cells": [
  {
   "cell_type": "markdown",
   "id": "29ba29b3",
   "metadata": {},
   "source": [
    "importing libraries"
   ]
  },
  {
   "cell_type": "code",
   "execution_count": 28,
   "id": "099632e9",
   "metadata": {},
   "outputs": [],
   "source": [
    "from sklearn.impute import SimpleImputer\n",
    "import numpy as np\n",
    "import pandas as pd\n",
    "import seaborn as sns\n",
    "import matplotlib.pyplot as plt"
   ]
  },
  {
   "cell_type": "markdown",
   "id": "7c1e8032",
   "metadata": {},
   "source": [
    "get data from assurance_maladie.csv"
   ]
  },
  {
   "cell_type": "code",
   "execution_count": null,
   "id": "6da0b79a",
   "metadata": {},
   "outputs": [
    {
     "name": "stdout",
     "output_type": "stream",
     "text": [
      "<class 'pandas.core.frame.DataFrame'>\n",
      "RangeIndex: 1338 entries, 0 to 1337\n",
      "Data columns (total 7 columns):\n",
      " #   Column    Non-Null Count  Dtype  \n",
      "---  ------    --------------  -----  \n",
      " 0   age       1338 non-null   int64  \n",
      " 1   sex       1338 non-null   object \n",
      " 2   bmi       1338 non-null   float64\n",
      " 3   children  1338 non-null   int64  \n",
      " 4   smoker    1338 non-null   object \n",
      " 5   region    1338 non-null   object \n",
      " 6   charges   1338 non-null   float64\n",
      "dtypes: float64(2), int64(2), object(3)\n",
      "memory usage: 73.3+ KB\n"
     ]
    },
    {
     "data": {
      "text/html": [
       "<div>\n",
       "<style scoped>\n",
       "    .dataframe tbody tr th:only-of-type {\n",
       "        vertical-align: middle;\n",
       "    }\n",
       "\n",
       "    .dataframe tbody tr th {\n",
       "        vertical-align: top;\n",
       "    }\n",
       "\n",
       "    .dataframe thead th {\n",
       "        text-align: right;\n",
       "    }\n",
       "</style>\n",
       "<table border=\"1\" class=\"dataframe\">\n",
       "  <thead>\n",
       "    <tr style=\"text-align: right;\">\n",
       "      <th></th>\n",
       "      <th>age</th>\n",
       "      <th>bmi</th>\n",
       "      <th>children</th>\n",
       "      <th>charges</th>\n",
       "    </tr>\n",
       "  </thead>\n",
       "  <tbody>\n",
       "    <tr>\n",
       "      <th>count</th>\n",
       "      <td>1338.000000</td>\n",
       "      <td>1338.000000</td>\n",
       "      <td>1338.000000</td>\n",
       "      <td>1338.000000</td>\n",
       "    </tr>\n",
       "    <tr>\n",
       "      <th>mean</th>\n",
       "      <td>39.207025</td>\n",
       "      <td>30.663397</td>\n",
       "      <td>1.094918</td>\n",
       "      <td>13270.422265</td>\n",
       "    </tr>\n",
       "    <tr>\n",
       "      <th>std</th>\n",
       "      <td>14.049960</td>\n",
       "      <td>6.098187</td>\n",
       "      <td>1.205493</td>\n",
       "      <td>12110.011237</td>\n",
       "    </tr>\n",
       "    <tr>\n",
       "      <th>min</th>\n",
       "      <td>18.000000</td>\n",
       "      <td>15.960000</td>\n",
       "      <td>0.000000</td>\n",
       "      <td>1121.873900</td>\n",
       "    </tr>\n",
       "    <tr>\n",
       "      <th>25%</th>\n",
       "      <td>27.000000</td>\n",
       "      <td>26.296250</td>\n",
       "      <td>0.000000</td>\n",
       "      <td>4740.287150</td>\n",
       "    </tr>\n",
       "    <tr>\n",
       "      <th>50%</th>\n",
       "      <td>39.000000</td>\n",
       "      <td>30.400000</td>\n",
       "      <td>1.000000</td>\n",
       "      <td>9382.033000</td>\n",
       "    </tr>\n",
       "    <tr>\n",
       "      <th>75%</th>\n",
       "      <td>51.000000</td>\n",
       "      <td>34.693750</td>\n",
       "      <td>2.000000</td>\n",
       "      <td>16639.912515</td>\n",
       "    </tr>\n",
       "    <tr>\n",
       "      <th>max</th>\n",
       "      <td>64.000000</td>\n",
       "      <td>53.130000</td>\n",
       "      <td>5.000000</td>\n",
       "      <td>63770.428010</td>\n",
       "    </tr>\n",
       "  </tbody>\n",
       "</table>\n",
       "</div>"
      ],
      "text/plain": [
       "               age          bmi     children       charges\n",
       "count  1338.000000  1338.000000  1338.000000   1338.000000\n",
       "mean     39.207025    30.663397     1.094918  13270.422265\n",
       "std      14.049960     6.098187     1.205493  12110.011237\n",
       "min      18.000000    15.960000     0.000000   1121.873900\n",
       "25%      27.000000    26.296250     0.000000   4740.287150\n",
       "50%      39.000000    30.400000     1.000000   9382.033000\n",
       "75%      51.000000    34.693750     2.000000  16639.912515\n",
       "max      64.000000    53.130000     5.000000  63770.428010"
      ]
     },
     "execution_count": 3,
     "metadata": {},
     "output_type": "execute_result"
    }
   ],
   "source": [
    "df = pd.read_csv('assurance_maladie.csv')\n",
    "df.shape # Returns (number_of_rows, number_of_columns)\n",
    "df.info() #serves as a quick and effective tool during EDA to get a\n",
    "#high-level overview of the\n",
    "#dataset's characteristics, data types, and the presence of missing values,\n",
    "df.describe() #statistical summary of numerical columns, including count, mean, standard deviation, min, and max values.\n"
   ]
  },
  {
   "cell_type": "markdown",
   "id": "1ed1da66",
   "metadata": {},
   "source": [
    "get and remove duplicates\n"
   ]
  },
  {
   "cell_type": "code",
   "execution_count": 4,
   "id": "c308ec6b",
   "metadata": {},
   "outputs": [
    {
     "name": "stdout",
     "output_type": "stream",
     "text": [
      "0       False\n",
      "1       False\n",
      "2       False\n",
      "3       False\n",
      "4       False\n",
      "        ...  \n",
      "1333    False\n",
      "1334    False\n",
      "1335    False\n",
      "1336    False\n",
      "1337    False\n",
      "Length: 1338, dtype: bool\n",
      "      age     sex     bmi  children smoker     region      charges\n",
      "0      19  female  27.900         0    yes  southwest  16884.92400\n",
      "1      18    male  33.770         1     no  southeast   1725.55230\n",
      "2      28    male  33.000         3     no  southeast   4449.46200\n",
      "3      33    male  22.705         0     no  northwest  21984.47061\n",
      "4      32    male  28.880         0     no  northwest   3866.85520\n",
      "...   ...     ...     ...       ...    ...        ...          ...\n",
      "1333   50    male  30.970         3     no  northwest  10600.54830\n",
      "1334   18  female  31.920         0     no  northeast   2205.98080\n",
      "1335   18  female  36.850         0     no  southeast   1629.83350\n",
      "1336   21  female  25.800         0     no  southwest   2007.94500\n",
      "1337   61  female  29.070         0    yes  northwest  29141.36030\n",
      "\n",
      "[1337 rows x 7 columns]\n"
     ]
    }
   ],
   "source": [
    "duplicates = df.duplicated() # Get duplicates\n",
    "print(duplicates)\n",
    "df = df.drop_duplicates() #Remove Duplicates\n",
    "print(df)"
   ]
  },
  {
   "cell_type": "markdown",
   "id": "3ae289a4",
   "metadata": {},
   "source": [
    "identifying missing values"
   ]
  },
  {
   "cell_type": "code",
   "execution_count": 5,
   "id": "7bc95061",
   "metadata": {},
   "outputs": [
    {
     "name": "stdout",
     "output_type": "stream",
     "text": [
      "age         0\n",
      "sex         0\n",
      "bmi         0\n",
      "children    0\n",
      "smoker      0\n",
      "region      0\n",
      "charges     0\n",
      "dtype: int64\n"
     ]
    }
   ],
   "source": [
    "missing_values = df.isnull().sum() #Identifying Missing Values: The isnull() method, combined with sum(), helps identify missing values in each column.\n",
    "print(missing_values)"
   ]
  },
  {
   "cell_type": "markdown",
   "id": "92e919b4",
   "metadata": {},
   "source": [
    "using seaborn: easier syntax , high_level library "
   ]
  },
  {
   "cell_type": "code",
   "execution_count": 6,
   "id": "5ec2ca08",
   "metadata": {},
   "outputs": [
    {
     "data": {
      "image/png": "[encoded data removed]",
      "text/plain": [
       "<Figure size 640x480 with 1 Axes>"
      ]
     },
     "metadata": {},
     "output_type": "display_data"
    }
   ],
   "source": [
    "sns.scatterplot(data=df, x=\"age\", y=\"charges\") #Scatter Plot: To show the relationship between two numerical variables.\n",
    "plt.show()"
   ]
  },
  {
   "cell_type": "code",
   "execution_count": 7,
   "id": "88747cba",
   "metadata": {},
   "outputs": [
    {
     "data": {
      "image/png": "[encoded data removed]",
      "text/plain": [
       "<Figure size 640x480 with 1 Axes>"
      ]
     },
     "metadata": {},
     "output_type": "display_data"
    }
   ],
   "source": [
    "#Bar Plot: To display the average of a numerical variable across different categories.\n",
    "sns.barplot(data=df, x=\"sex\", y=\"charges\")\n",
    "plt.show()"
   ]
  },
  {
   "cell_type": "code",
   "execution_count": 106,
   "id": "b8b93a01",
   "metadata": {},
   "outputs": [
    {
     "data": {
      "image/png": "[encoded data removed]",
      "text/plain": [
       "<Figure size 500x500 with 1 Axes>"
      ]
     },
     "metadata": {},
     "output_type": "display_data"
    },
    {
     "data": {
      "image/png": "[encoded data removed]",
      "text/plain": [
       "<Figure size 500x500 with 1 Axes>"
      ]
     },
     "metadata": {},
     "output_type": "display_data"
    },
    {
     "data": {
      "image/png": "[encoded data removed]",
      "text/plain": [
       "<Figure size 500x500 with 1 Axes>"
      ]
     },
     "metadata": {},
     "output_type": "display_data"
    }
   ],
   "source": [
    "#Distribution Plot (Displot): To visualize the distribution of a single numerical variable.\n",
    "sns.displot(data=df, x=\"age\", kind=\"hist\") # 'kind' can be 'hist', 'kde', 'ecdf'\n",
    "plt.show()\n",
    "sns.displot(data=df, x=\"age\", kind=\"kde\") # 'kind' can be 'hist', 'kde', 'ecdf'\n",
    "plt.show()\n",
    "sns.displot(data=df, x=\"age\", kind=\"ecdf\") # 'kind' can be 'hist', 'kde', 'ecdf'\n",
    "plt.show()"
   ]
  },
  {
   "cell_type": "markdown",
   "id": "3164eda8",
   "metadata": {},
   "source": [
    "Best Use Cases:\n",
    "\n",
    "Pairplots: Ideal for initial exploration of a dataset with a moderate number of numerical variables to understand individual distributions and pairwise interactions.\n",
    "\n",
    "Heatmaps: Particularly useful for visualizing correlation matrices, especially in datasets with a larger number of variables where examining every scatterplot would be overwhelming, or to quickly identify highly correlated features for feature engineering or model building.\n"
   ]
  },
  {
   "cell_type": "markdown",
   "id": "ac1356d7",
   "metadata": {},
   "source": [
    "using heatmaps\n"
   ]
  },
  {
   "cell_type": "code",
   "execution_count": 105,
   "id": "24bdc675",
   "metadata": {},
   "outputs": [
    {
     "data": {
      "image/png": "[encoded data removed]",
      "text/plain": [
       "<Figure size 640x480 with 2 Axes>"
      ]
     },
     "metadata": {},
     "output_type": "display_data"
    }
   ],
   "source": [
    "selected_columns = ['age' , 'bmi' , 'children' , 'charges']\n",
    "df_num = df[selected_columns]\n",
    "sns.heatmap(df_num.corr() , annot=True , cmap=\"Blues\" , fmt=\".2f\" )\n",
    "plt.show()\n"
   ]
  },
  {
   "cell_type": "markdown",
   "id": "cbd8fd5b",
   "metadata": {},
   "source": [
    "imputation: \n"
   ]
  },
  {
   "cell_type": "code",
   "execution_count": 30,
   "id": "0fb4b576",
   "metadata": {},
   "outputs": [
    {
     "name": "stdout",
     "output_type": "stream",
     "text": [
      "       age     sex     bmi  children smoker     region      charges\n",
      "0     19.0  female  27.900       0.0    yes  southwest  16884.92400\n",
      "1     18.0    male  33.770       1.0     no  southeast   1725.55230\n",
      "2     28.0    male  33.000       3.0     no  southeast   4449.46200\n",
      "3     33.0    male  22.705       0.0     no  northwest  21984.47061\n",
      "4     32.0    male  28.880       0.0     no  northwest   3866.85520\n",
      "...    ...     ...     ...       ...    ...        ...          ...\n",
      "1333  50.0    male  30.970       3.0     no  northwest  10600.54830\n",
      "1334  18.0  female  31.920       0.0     no  northeast   2205.98080\n",
      "1335  18.0  female  36.850       0.0     no  southeast   1629.83350\n",
      "1336  21.0  female  25.800       0.0     no  southwest   2007.94500\n",
      "1337  61.0  female  29.070       0.0    yes  northwest  29141.36030\n",
      "\n",
      "[1337 rows x 7 columns]\n",
      "\n",
      "DataFrame after mode imputation:\n",
      "       age     sex     bmi  children smoker     region      charges\n",
      "0     19.0  female  27.900       0.0    yes  southwest  16884.92400\n",
      "1     18.0    male  33.770       1.0     no  southeast   1725.55230\n",
      "2     28.0    male  33.000       3.0     no  southeast   4449.46200\n",
      "3     33.0    male  22.705       0.0     no  northwest  21984.47061\n",
      "4     32.0    male  28.880       0.0     no  northwest   3866.85520\n",
      "...    ...     ...     ...       ...    ...        ...          ...\n",
      "1333  50.0    male  30.970       3.0     no  northwest  10600.54830\n",
      "1334  18.0  female  31.920       0.0     no  northeast   2205.98080\n",
      "1335  18.0  female  36.850       0.0     no  southeast   1629.83350\n",
      "1336  21.0  female  25.800       0.0     no  southwest   2007.94500\n",
      "1337  61.0  female  29.070       0.0    yes  northwest  29141.36030\n",
      "\n",
      "[1337 rows x 7 columns]\n"
     ]
    },
    {
     "name": "stderr",
     "output_type": "stream",
     "text": [
      "C:\\Users\\abirm\\AppData\\Local\\Temp\\ipykernel_30724\\3897998476.py:12: SettingWithCopyWarning: \n",
      "A value is trying to be set on a copy of a slice from a DataFrame\n",
      "\n",
      "See the caveats in the documentation: https://pandas.pydata.org/pandas-docs/stable/user_guide/indexing.html#returning-a-view-versus-a-copy\n",
      "  df[selected_columns_string].fillna(mode_category, inplace=True)\n"
     ]
    }
   ],
   "source": [
    "selected_columns_nums = ['age' , 'bmi' , 'children' , 'charges']\n",
    "\n",
    "imputer_mean = SimpleImputer(strategy='mean')\n",
    "df[selected_columns_nums] = imputer_mean.fit_transform(df[selected_columns_nums])\n",
    "print(df)\n",
    "\n",
    "selected_columns_string = ['sex' , 'smoker' , 'region']\n",
    "\n",
    "mode_category = df[selected_columns_string[0]].mode()[0]\n",
    "\n",
    "# Fill missing values with the calculated mode\n",
    "df[selected_columns_string].fillna(mode_category, inplace=True)\n",
    "\n",
    "print(\"\\nDataFrame after mode imputation:\")\n",
    "print(df)\n"
   ]
  },
  {
   "cell_type": "markdown",
   "id": "de549910",
   "metadata": {},
   "source": [
    "Détection et gestion des valeurs aberrantes"
   ]
  },
  {
   "cell_type": "code",
   "execution_count": 142,
   "id": "3fdddf13",
   "metadata": {},
   "outputs": [
    {
     "name": "stdout",
     "output_type": "stream",
     "text": [
      "<class 'pandas.core.frame.DataFrame'>\n",
      "RangeIndex: 1338 entries, 0 to 1337\n",
      "Data columns (total 7 columns):\n",
      " #   Column    Non-Null Count  Dtype  \n",
      "---  ------    --------------  -----  \n",
      " 0   age       1338 non-null   int64  \n",
      " 1   sex       1338 non-null   object \n",
      " 2   bmi       1338 non-null   float64\n",
      " 3   children  1338 non-null   int64  \n",
      " 4   smoker    1338 non-null   object \n",
      " 5   region    1338 non-null   object \n",
      " 6   charges   1338 non-null   float64\n",
      "dtypes: float64(2), int64(2), object(3)\n",
      "memory usage: 73.3+ KB\n"
     ]
    }
   ],
   "source": [
    "df.info()"
   ]
  },
  {
   "cell_type": "code",
   "execution_count": 42,
   "id": "85cd2620",
   "metadata": {},
   "outputs": [
    {
     "data": {
      "text/plain": [
       "<Axes: title={'center': 'charges'}, xlabel='region'>"
      ]
     },
     "execution_count": 42,
     "metadata": {},
     "output_type": "execute_result"
    },
    {
     "data": {
      "image/png": "[encoded data removed]",
      "text/plain": [
       "<Figure size 640x480 with 1 Axes>"
      ]
     },
     "metadata": {},
     "output_type": "display_data"
    }
   ],
   "source": [
    "df.boxplot(by ='region', column =['charges'], grid = False)"
   ]
  },
  {
   "cell_type": "markdown",
   "id": "640ea3ea",
   "metadata": {},
   "source": [
    "one hot encoding:\n"
   ]
  },
  {
   "cell_type": "code",
   "execution_count": 44,
   "id": "ff05cbb4",
   "metadata": {},
   "outputs": [
    {
     "name": "stdout",
     "output_type": "stream",
     "text": [
      "['sex', 'smoker', 'region']\n"
     ]
    }
   ],
   "source": [
    "catg_cols = df.select_dtypes(include='object').columns.to_list()\n",
    "print(catg_cols)"
   ]
  },
  {
   "cell_type": "code",
   "execution_count": 59,
   "id": "594f6528",
   "metadata": {},
   "outputs": [
    {
     "name": "stdout",
     "output_type": "stream",
     "text": [
      "      sex_female  sex_male  smoker_no  smoker_yes  region_northeast  \\\n",
      "0            1.0       0.0        0.0         1.0               0.0   \n",
      "1            0.0       1.0        1.0         0.0               0.0   \n",
      "2            0.0       1.0        1.0         0.0               0.0   \n",
      "3            0.0       1.0        1.0         0.0               0.0   \n",
      "4            0.0       1.0        1.0         0.0               0.0   \n",
      "...          ...       ...        ...         ...               ...   \n",
      "1333         0.0       1.0        1.0         0.0               0.0   \n",
      "1334         1.0       0.0        1.0         0.0               1.0   \n",
      "1335         1.0       0.0        1.0         0.0               0.0   \n",
      "1336         1.0       0.0        1.0         0.0               0.0   \n",
      "1337         1.0       0.0        0.0         1.0               0.0   \n",
      "\n",
      "      region_northwest  region_southeast  region_southwest  \n",
      "0                  0.0               0.0               1.0  \n",
      "1                  0.0               1.0               0.0  \n",
      "2                  0.0               1.0               0.0  \n",
      "3                  1.0               0.0               0.0  \n",
      "4                  1.0               0.0               0.0  \n",
      "...                ...               ...               ...  \n",
      "1333               1.0               0.0               0.0  \n",
      "1334               0.0               0.0               0.0  \n",
      "1335               0.0               1.0               0.0  \n",
      "1336               0.0               0.0               1.0  \n",
      "1337               1.0               0.0               0.0  \n",
      "\n",
      "[1337 rows x 8 columns]\n"
     ]
    }
   ],
   "source": [
    "from sklearn.preprocessing import OneHotEncoder\n",
    "encoder = OneHotEncoder(sparse_output=False , handle_unknown='ignore' )\n",
    "encoder.fit(df[catg_cols])\n",
    "\n",
    "encoded_cols = list(encoder.get_feature_names_out(catg_cols))\n",
    "df[encoded_cols] = encoder.transform(df[catg_cols])\n",
    "print(df[encoded_cols])"
   ]
  },
  {
   "cell_type": "markdown",
   "id": "c3c16af6",
   "metadata": {},
   "source": [
    "split data"
   ]
  },
  {
   "cell_type": "code",
   "execution_count": 113,
   "id": "c2694a87",
   "metadata": {},
   "outputs": [
    {
     "data": {
      "text/html": [
       "<div>\n",
       "<style scoped>\n",
       "    .dataframe tbody tr th:only-of-type {\n",
       "        vertical-align: middle;\n",
       "    }\n",
       "\n",
       "    .dataframe tbody tr th {\n",
       "        vertical-align: top;\n",
       "    }\n",
       "\n",
       "    .dataframe thead th {\n",
       "        text-align: right;\n",
       "    }\n",
       "</style>\n",
       "<table border=\"1\" class=\"dataframe\">\n",
       "  <thead>\n",
       "    <tr style=\"text-align: right;\">\n",
       "      <th></th>\n",
       "      <th>age</th>\n",
       "      <th>children</th>\n",
       "      <th>charges</th>\n",
       "    </tr>\n",
       "  </thead>\n",
       "  <tbody>\n",
       "    <tr>\n",
       "      <th>count</th>\n",
       "      <td>1070.000</td>\n",
       "      <td>1070.000</td>\n",
       "      <td>1070.000</td>\n",
       "    </tr>\n",
       "    <tr>\n",
       "      <th>mean</th>\n",
       "      <td>39.357</td>\n",
       "      <td>1.068</td>\n",
       "      <td>13339.702</td>\n",
       "    </tr>\n",
       "    <tr>\n",
       "      <th>std</th>\n",
       "      <td>14.198</td>\n",
       "      <td>1.190</td>\n",
       "      <td>12191.344</td>\n",
       "    </tr>\n",
       "    <tr>\n",
       "      <th>min</th>\n",
       "      <td>18.000</td>\n",
       "      <td>0.000</td>\n",
       "      <td>1131.507</td>\n",
       "    </tr>\n",
       "    <tr>\n",
       "      <th>25%</th>\n",
       "      <td>26.000</td>\n",
       "      <td>0.000</td>\n",
       "      <td>4676.641</td>\n",
       "    </tr>\n",
       "    <tr>\n",
       "      <th>50%</th>\n",
       "      <td>40.000</td>\n",
       "      <td>1.000</td>\n",
       "      <td>9526.938</td>\n",
       "    </tr>\n",
       "    <tr>\n",
       "      <th>75%</th>\n",
       "      <td>52.000</td>\n",
       "      <td>2.000</td>\n",
       "      <td>17032.041</td>\n",
       "    </tr>\n",
       "    <tr>\n",
       "      <th>max</th>\n",
       "      <td>64.000</td>\n",
       "      <td>5.000</td>\n",
       "      <td>63770.428</td>\n",
       "    </tr>\n",
       "  </tbody>\n",
       "</table>\n",
       "</div>"
      ],
      "text/plain": [
       "            age  children    charges\n",
       "count  1070.000  1070.000   1070.000\n",
       "mean     39.357     1.068  13339.702\n",
       "std      14.198     1.190  12191.344\n",
       "min      18.000     0.000   1131.507\n",
       "25%      26.000     0.000   4676.641\n",
       "50%      40.000     1.000   9526.938\n",
       "75%      52.000     2.000  17032.041\n",
       "max      64.000     5.000  63770.428"
      ]
     },
     "execution_count": 113,
     "metadata": {},
     "output_type": "execute_result"
    }
   ],
   "source": [
    "from sklearn.model_selection import train_test_split\n",
    "X = df.drop(columns=['bmi' , 'sex' , 'region' , 'smoker'])\n",
    "Y = df['bmi']\n",
    "X.head()\n",
    "Y.head()\n",
    "X.shape\n",
    "Y.shape\n",
    "X_train , X_test , Y_train , Y_test = train_test_split(X ,Y , random_state=11 , test_size=0.2)\n",
    "X_train.shape\n",
    "X_test.shape\n",
    "Y_train.shape\n",
    "Y_test.shape\n",
    "X_train.describe().round(3)\n",
    "\n"
   ]
  },
  {
   "cell_type": "markdown",
   "id": "4cce4194",
   "metadata": {},
   "source": [
    "Normalization vs Standardization"
   ]
  },
  {
   "cell_type": "code",
   "execution_count": 114,
   "id": "af78d397",
   "metadata": {},
   "outputs": [
    {
     "data": {
      "text/html": [
       "<div>\n",
       "<style scoped>\n",
       "    .dataframe tbody tr th:only-of-type {\n",
       "        vertical-align: middle;\n",
       "    }\n",
       "\n",
       "    .dataframe tbody tr th {\n",
       "        vertical-align: top;\n",
       "    }\n",
       "\n",
       "    .dataframe thead th {\n",
       "        text-align: right;\n",
       "    }\n",
       "</style>\n",
       "<table border=\"1\" class=\"dataframe\">\n",
       "  <thead>\n",
       "    <tr style=\"text-align: right;\">\n",
       "      <th></th>\n",
       "      <th>age</th>\n",
       "      <th>bmi</th>\n",
       "      <th>children</th>\n",
       "      <th>charges</th>\n",
       "    </tr>\n",
       "  </thead>\n",
       "  <tbody>\n",
       "    <tr>\n",
       "      <th>count</th>\n",
       "      <td>1338.000</td>\n",
       "      <td>1338.000</td>\n",
       "      <td>1338.000</td>\n",
       "      <td>1338.000</td>\n",
       "    </tr>\n",
       "    <tr>\n",
       "      <th>mean</th>\n",
       "      <td>-0.000</td>\n",
       "      <td>-0.000</td>\n",
       "      <td>-0.000</td>\n",
       "      <td>-0.000</td>\n",
       "    </tr>\n",
       "    <tr>\n",
       "      <th>std</th>\n",
       "      <td>1.000</td>\n",
       "      <td>1.000</td>\n",
       "      <td>1.000</td>\n",
       "      <td>1.000</td>\n",
       "    </tr>\n",
       "    <tr>\n",
       "      <th>min</th>\n",
       "      <td>-1.510</td>\n",
       "      <td>-2.412</td>\n",
       "      <td>-0.909</td>\n",
       "      <td>-1.004</td>\n",
       "    </tr>\n",
       "    <tr>\n",
       "      <th>25%</th>\n",
       "      <td>-0.869</td>\n",
       "      <td>-0.716</td>\n",
       "      <td>-0.909</td>\n",
       "      <td>-0.705</td>\n",
       "    </tr>\n",
       "    <tr>\n",
       "      <th>50%</th>\n",
       "      <td>-0.015</td>\n",
       "      <td>-0.043</td>\n",
       "      <td>-0.079</td>\n",
       "      <td>-0.321</td>\n",
       "    </tr>\n",
       "    <tr>\n",
       "      <th>75%</th>\n",
       "      <td>0.840</td>\n",
       "      <td>0.661</td>\n",
       "      <td>0.751</td>\n",
       "      <td>0.278</td>\n",
       "    </tr>\n",
       "    <tr>\n",
       "      <th>max</th>\n",
       "      <td>1.765</td>\n",
       "      <td>3.686</td>\n",
       "      <td>3.241</td>\n",
       "      <td>4.172</td>\n",
       "    </tr>\n",
       "  </tbody>\n",
       "</table>\n",
       "</div>"
      ],
      "text/plain": [
       "            age       bmi  children   charges\n",
       "count  1338.000  1338.000  1338.000  1338.000\n",
       "mean     -0.000    -0.000    -0.000    -0.000\n",
       "std       1.000     1.000     1.000     1.000\n",
       "min      -1.510    -2.412    -0.909    -1.004\n",
       "25%      -0.869    -0.716    -0.909    -0.705\n",
       "50%      -0.015    -0.043    -0.079    -0.321\n",
       "75%       0.840     0.661     0.751     0.278\n",
       "max       1.765     3.686     3.241     4.172"
      ]
     },
     "execution_count": 114,
     "metadata": {},
     "output_type": "execute_result"
    }
   ],
   "source": [
    "\n",
    "\n",
    "X1 = df[selected_columns_nums]\n",
    "X2 = df[selected_columns_nums]\n",
    "from sklearn.preprocessing import StandardScaler\n",
    "scaleStandard = StandardScaler()\n",
    "X1 = scaleStandard.fit_transform(X1)\n",
    "X1 = pd.DataFrame(X1 , columns=selected_columns_nums)\n",
    "X1.head()\n",
    "X1.describe().round(3)\n",
    "\n"
   ]
  },
  {
   "cell_type": "code",
   "execution_count": 115,
   "id": "850ffe19",
   "metadata": {},
   "outputs": [
    {
     "data": {
      "text/html": [
       "<div>\n",
       "<style scoped>\n",
       "    .dataframe tbody tr th:only-of-type {\n",
       "        vertical-align: middle;\n",
       "    }\n",
       "\n",
       "    .dataframe tbody tr th {\n",
       "        vertical-align: top;\n",
       "    }\n",
       "\n",
       "    .dataframe thead th {\n",
       "        text-align: right;\n",
       "    }\n",
       "</style>\n",
       "<table border=\"1\" class=\"dataframe\">\n",
       "  <thead>\n",
       "    <tr style=\"text-align: right;\">\n",
       "      <th></th>\n",
       "      <th>age</th>\n",
       "      <th>bmi</th>\n",
       "      <th>children</th>\n",
       "      <th>charges</th>\n",
       "    </tr>\n",
       "  </thead>\n",
       "  <tbody>\n",
       "    <tr>\n",
       "      <th>count</th>\n",
       "      <td>1338.000</td>\n",
       "      <td>1338.000</td>\n",
       "      <td>1338.000</td>\n",
       "      <td>1338.000</td>\n",
       "    </tr>\n",
       "    <tr>\n",
       "      <th>mean</th>\n",
       "      <td>0.461</td>\n",
       "      <td>0.396</td>\n",
       "      <td>0.219</td>\n",
       "      <td>0.194</td>\n",
       "    </tr>\n",
       "    <tr>\n",
       "      <th>std</th>\n",
       "      <td>0.305</td>\n",
       "      <td>0.164</td>\n",
       "      <td>0.241</td>\n",
       "      <td>0.193</td>\n",
       "    </tr>\n",
       "    <tr>\n",
       "      <th>min</th>\n",
       "      <td>0.000</td>\n",
       "      <td>0.000</td>\n",
       "      <td>0.000</td>\n",
       "      <td>0.000</td>\n",
       "    </tr>\n",
       "    <tr>\n",
       "      <th>25%</th>\n",
       "      <td>0.196</td>\n",
       "      <td>0.278</td>\n",
       "      <td>0.000</td>\n",
       "      <td>0.058</td>\n",
       "    </tr>\n",
       "    <tr>\n",
       "      <th>50%</th>\n",
       "      <td>0.457</td>\n",
       "      <td>0.388</td>\n",
       "      <td>0.200</td>\n",
       "      <td>0.132</td>\n",
       "    </tr>\n",
       "    <tr>\n",
       "      <th>75%</th>\n",
       "      <td>0.717</td>\n",
       "      <td>0.504</td>\n",
       "      <td>0.400</td>\n",
       "      <td>0.248</td>\n",
       "    </tr>\n",
       "    <tr>\n",
       "      <th>max</th>\n",
       "      <td>1.000</td>\n",
       "      <td>1.000</td>\n",
       "      <td>1.000</td>\n",
       "      <td>1.000</td>\n",
       "    </tr>\n",
       "  </tbody>\n",
       "</table>\n",
       "</div>"
      ],
      "text/plain": [
       "            age       bmi  children   charges\n",
       "count  1338.000  1338.000  1338.000  1338.000\n",
       "mean      0.461     0.396     0.219     0.194\n",
       "std       0.305     0.164     0.241     0.193\n",
       "min       0.000     0.000     0.000     0.000\n",
       "25%       0.196     0.278     0.000     0.058\n",
       "50%       0.457     0.388     0.200     0.132\n",
       "75%       0.717     0.504     0.400     0.248\n",
       "max       1.000     1.000     1.000     1.000"
      ]
     },
     "execution_count": 115,
     "metadata": {},
     "output_type": "execute_result"
    }
   ],
   "source": [
    "from sklearn.preprocessing import MinMaxScaler\n",
    "scaleminmax = MinMaxScaler(feature_range=(0,1))\n",
    "X2 = scaleminmax.fit_transform(X2)\n",
    "X2 = pd.DataFrame(X2 , columns=selected_columns_nums)\n",
    "X2.describe().round(3)\n",
    "\n"
   ]
  },
  {
   "cell_type": "markdown",
   "id": "45b9bf63",
   "metadata": {},
   "source": [
    "LinearRegression\n"
   ]
  },
  {
   "cell_type": "code",
   "execution_count": 129,
   "id": "1ca15815",
   "metadata": {},
   "outputs": [
    {
     "data": {
      "text/plain": [
       "4.584516339515796"
      ]
     },
     "execution_count": 129,
     "metadata": {},
     "output_type": "execute_result"
    }
   ],
   "source": [
    "from sklearn.linear_model import LinearRegression\n",
    "from sklearn.metrics import mean_absolute_error , mean_squared_error , r2_score\n",
    "lm = LinearRegression()\n",
    "lm.fit(X_train , Y_train)\n",
    "lm.coef_\n",
    "cdf = pd.DataFrame(lm.coef_ , X.columns , columns=['Coef'])\n",
    "#print(cdf)\n",
    "\n",
    "y_pred = lm.predict(X_test)\n",
    "mean_absolute_error(y_pred , Y_test)\n",
    "\n",
    "\n",
    "\n",
    "\n"
   ]
  },
  {
   "cell_type": "code",
   "execution_count": 130,
   "id": "ac156fc9",
   "metadata": {},
   "outputs": [
    {
     "data": {
      "text/plain": [
       "32.96561647887017"
      ]
     },
     "execution_count": 130,
     "metadata": {},
     "output_type": "execute_result"
    }
   ],
   "source": [
    "mean_squared_error(y_pred , Y_test)"
   ]
  },
  {
   "cell_type": "code",
   "execution_count": 131,
   "id": "5c684969",
   "metadata": {},
   "outputs": [
    {
     "data": {
      "text/plain": [
       "-20.776895964101406"
      ]
     },
     "execution_count": 131,
     "metadata": {},
     "output_type": "execute_result"
    }
   ],
   "source": [
    "r2_score(y_pred , Y_test)"
   ]
  },
  {
   "cell_type": "markdown",
   "id": "86eb453c",
   "metadata": {},
   "source": [
    "RandomForestRegressor\n"
   ]
  },
  {
   "cell_type": "code",
   "execution_count": null,
   "id": "30086b9e",
   "metadata": {},
   "outputs": [
    {
     "data": {
      "text/plain": [
       "4.555759141791046"
      ]
     },
     "execution_count": 123,
     "metadata": {},
     "output_type": "execute_result"
    }
   ],
   "source": [
    "from sklearn.ensemble import RandomForestRegressor\n",
    "rfr = RandomForestRegressor(random_state=13)\n",
    "rfr.fit(X_train , Y_train)\n",
    "y_pred = rfr.predict(X_test)\n",
    "from sklearn.metrics import mean_absolute_error , mean_squared_error , r2_score\n",
    "mean_absolute_error(y_pred , Y_test)"
   ]
  },
  {
   "cell_type": "code",
   "execution_count": null,
   "id": "5b2a6f28",
   "metadata": {},
   "outputs": [
    {
     "data": {
      "text/plain": [
       "34.56138186118472"
      ]
     },
     "execution_count": 124,
     "metadata": {},
     "output_type": "execute_result"
    }
   ],
   "source": [
    "mean_squared_error(y_pred_tra , Y_test)"
   ]
  },
  {
   "cell_type": "code",
   "execution_count": 125,
   "id": "830af9a2",
   "metadata": {},
   "outputs": [
    {
     "data": {
      "text/plain": [
       "-1.7653583189798874"
      ]
     },
     "execution_count": 125,
     "metadata": {},
     "output_type": "execute_result"
    }
   ],
   "source": [
    "r2_score(y_pred , Y_test)"
   ]
  },
  {
   "cell_type": "markdown",
   "id": "44fec595",
   "metadata": {},
   "source": [
    "XGBRegressor"
   ]
  },
  {
   "cell_type": "code",
   "execution_count": 126,
   "id": "58db3c70",
   "metadata": {},
   "outputs": [
    {
     "data": {
      "text/plain": [
       "4.817106126813747"
      ]
     },
     "execution_count": 126,
     "metadata": {},
     "output_type": "execute_result"
    }
   ],
   "source": [
    "from xgboost import XGBRegressor\n",
    "xgb = XGBRegressor()\n",
    "xgb.fit(X_train , Y_train)\n",
    "y_pred = xgb.predict(X_test)\n",
    "mean_absolute_error(y_pred , Y_test)\n"
   ]
  },
  {
   "cell_type": "code",
   "execution_count": 140,
   "id": "daf45f41",
   "metadata": {},
   "outputs": [
    {
     "data": {
      "text/plain": [
       "1.85134636495715"
      ]
     },
     "execution_count": 140,
     "metadata": {},
     "output_type": "execute_result"
    }
   ],
   "source": [
    "y_pred_train = xgb.predict(X_train)\n",
    "mean_absolute_error(y_pred_train , Y_train)"
   ]
  },
  {
   "cell_type": "code",
   "execution_count": 127,
   "id": "0adba421",
   "metadata": {},
   "outputs": [
    {
     "data": {
      "text/plain": [
       "39.29710339326022"
      ]
     },
     "execution_count": 127,
     "metadata": {},
     "output_type": "execute_result"
    }
   ],
   "source": [
    "mean_squared_error(y_pred , Y_test)"
   ]
  },
  {
   "cell_type": "code",
   "execution_count": 128,
   "id": "40e6e52b",
   "metadata": {},
   "outputs": [
    {
     "data": {
      "text/plain": [
       "-1.341028653896445"
      ]
     },
     "execution_count": 128,
     "metadata": {},
     "output_type": "execute_result"
    }
   ],
   "source": [
    "r2_score(y_pred , Y_test)"
   ]
  },
  {
   "cell_type": "markdown",
   "id": "038145a8",
   "metadata": {},
   "source": [
    "SVR"
   ]
  },
  {
   "cell_type": "code",
   "execution_count": 141,
   "id": "32689373",
   "metadata": {},
   "outputs": [
    {
     "data": {
      "text/plain": [
       "4.412707357558956"
      ]
     },
     "execution_count": 141,
     "metadata": {},
     "output_type": "execute_result"
    }
   ],
   "source": [
    "from sklearn.svm import SVR\n",
    "\n",
    "svr = SVR()\n",
    "svr.fit(X_train , Y_train)\n",
    "\n",
    "y_pred = svr.predict(X_test)\n",
    "mean_absolute_error(y_pred , Y_test)"
   ]
  },
  {
   "cell_type": "code",
   "execution_count": 137,
   "id": "a6096158",
   "metadata": {},
   "outputs": [
    {
     "data": {
      "text/plain": [
       "31.35793657145697"
      ]
     },
     "execution_count": 137,
     "metadata": {},
     "output_type": "execute_result"
    }
   ],
   "source": [
    "mean_squared_error(y_pred , Y_test)"
   ]
  },
  {
   "cell_type": "code",
   "execution_count": 138,
   "id": "f18c6b0e",
   "metadata": {},
   "outputs": [
    {
     "data": {
      "text/plain": [
       "-9.6106380813945"
      ]
     },
     "execution_count": 138,
     "metadata": {},
     "output_type": "execute_result"
    }
   ],
   "source": [
    "r2_score(y_pred , Y_test)"
   ]
  }
 ],
 "metadata": {
  "kernelspec": {
   "display_name": "Python 3",
   "language": "python",
   "name": "python3"
  },
  "language_info": {
   "codemirror_mode": {
    "name": "ipython",
    "version": 3
   },
   "file_extension": ".py",
   "mimetype": "text/x-python",
   "name": "python",
   "nbconvert_exporter": "python",
   "pygments_lexer": "ipython3",
   "version": "3.13.7"
  }
 },
 "nbformat": 4,
 "nbformat_minor": 5
}
