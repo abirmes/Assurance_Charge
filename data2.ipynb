{
 "cells": [
  {
   "cell_type": "code",
   "execution_count": 315,
   "id": "3432db09",
   "metadata": {},
   "outputs": [
    {
     "data": {
      "text/html": [
       "<div>\n",
       "<style scoped>\n",
       "    .dataframe tbody tr th:only-of-type {\n",
       "        vertical-align: middle;\n",
       "    }\n",
       "\n",
       "    .dataframe tbody tr th {\n",
       "        vertical-align: top;\n",
       "    }\n",
       "\n",
       "    .dataframe thead th {\n",
       "        text-align: right;\n",
       "    }\n",
       "</style>\n",
       "<table border=\"1\" class=\"dataframe\">\n",
       "  <thead>\n",
       "    <tr style=\"text-align: right;\">\n",
       "      <th></th>\n",
       "      <th>age</th>\n",
       "      <th>bmi</th>\n",
       "      <th>children</th>\n",
       "      <th>charges</th>\n",
       "    </tr>\n",
       "  </thead>\n",
       "  <tbody>\n",
       "    <tr>\n",
       "      <th>count</th>\n",
       "      <td>1338.000</td>\n",
       "      <td>1338.000</td>\n",
       "      <td>1338.000</td>\n",
       "      <td>1338.000</td>\n",
       "    </tr>\n",
       "    <tr>\n",
       "      <th>mean</th>\n",
       "      <td>39.207</td>\n",
       "      <td>30.663</td>\n",
       "      <td>1.095</td>\n",
       "      <td>13270.422</td>\n",
       "    </tr>\n",
       "    <tr>\n",
       "      <th>std</th>\n",
       "      <td>14.050</td>\n",
       "      <td>6.098</td>\n",
       "      <td>1.205</td>\n",
       "      <td>12110.011</td>\n",
       "    </tr>\n",
       "    <tr>\n",
       "      <th>min</th>\n",
       "      <td>18.000</td>\n",
       "      <td>15.960</td>\n",
       "      <td>0.000</td>\n",
       "      <td>1121.874</td>\n",
       "    </tr>\n",
       "    <tr>\n",
       "      <th>25%</th>\n",
       "      <td>27.000</td>\n",
       "      <td>26.296</td>\n",
       "      <td>0.000</td>\n",
       "      <td>4740.287</td>\n",
       "    </tr>\n",
       "    <tr>\n",
       "      <th>50%</th>\n",
       "      <td>39.000</td>\n",
       "      <td>30.400</td>\n",
       "      <td>1.000</td>\n",
       "      <td>9382.033</td>\n",
       "    </tr>\n",
       "    <tr>\n",
       "      <th>75%</th>\n",
       "      <td>51.000</td>\n",
       "      <td>34.694</td>\n",
       "      <td>2.000</td>\n",
       "      <td>16639.913</td>\n",
       "    </tr>\n",
       "    <tr>\n",
       "      <th>max</th>\n",
       "      <td>64.000</td>\n",
       "      <td>53.130</td>\n",
       "      <td>5.000</td>\n",
       "      <td>63770.428</td>\n",
       "    </tr>\n",
       "  </tbody>\n",
       "</table>\n",
       "</div>"
      ],
      "text/plain": [
       "            age       bmi  children    charges\n",
       "count  1338.000  1338.000  1338.000   1338.000\n",
       "mean     39.207    30.663     1.095  13270.422\n",
       "std      14.050     6.098     1.205  12110.011\n",
       "min      18.000    15.960     0.000   1121.874\n",
       "25%      27.000    26.296     0.000   4740.287\n",
       "50%      39.000    30.400     1.000   9382.033\n",
       "75%      51.000    34.694     2.000  16639.913\n",
       "max      64.000    53.130     5.000  63770.428"
      ]
     },
     "execution_count": 315,
     "metadata": {},
     "output_type": "execute_result"
    }
   ],
   "source": [
    "from sklearn.impute import SimpleImputer\n",
    "import numpy as np\n",
    "import pandas as pd\n",
    "import seaborn as sns\n",
    "import matplotlib.pyplot as plt\n",
    "from scipy.stats import zscore\n",
    "df = pd.read_csv('assurance_maladie.csv')\n",
    "df.describe().round(3)\n"
   ]
  },
  {
   "cell_type": "code",
   "execution_count": 316,
   "id": "33f1b2b2",
   "metadata": {},
   "outputs": [
    {
     "name": "stdout",
     "output_type": "stream",
     "text": [
      "<class 'pandas.core.frame.DataFrame'>\n",
      "RangeIndex: 1338 entries, 0 to 1337\n",
      "Data columns (total 7 columns):\n",
      " #   Column    Non-Null Count  Dtype  \n",
      "---  ------    --------------  -----  \n",
      " 0   age       1338 non-null   int64  \n",
      " 1   sex       1338 non-null   object \n",
      " 2   bmi       1338 non-null   float64\n",
      " 3   children  1338 non-null   int64  \n",
      " 4   smoker    1338 non-null   object \n",
      " 5   region    1338 non-null   object \n",
      " 6   charges   1338 non-null   float64\n",
      "dtypes: float64(2), int64(2), object(3)\n",
      "memory usage: 73.3+ KB\n"
     ]
    }
   ],
   "source": [
    "df.info()"
   ]
  },
  {
   "cell_type": "code",
   "execution_count": 317,
   "id": "fc66b67e",
   "metadata": {},
   "outputs": [
    {
     "data": {
      "text/html": [
       "<div>\n",
       "<style scoped>\n",
       "    .dataframe tbody tr th:only-of-type {\n",
       "        vertical-align: middle;\n",
       "    }\n",
       "\n",
       "    .dataframe tbody tr th {\n",
       "        vertical-align: top;\n",
       "    }\n",
       "\n",
       "    .dataframe thead th {\n",
       "        text-align: right;\n",
       "    }\n",
       "</style>\n",
       "<table border=\"1\" class=\"dataframe\">\n",
       "  <thead>\n",
       "    <tr style=\"text-align: right;\">\n",
       "      <th></th>\n",
       "      <th>age</th>\n",
       "      <th>sex</th>\n",
       "      <th>bmi</th>\n",
       "      <th>children</th>\n",
       "      <th>smoker</th>\n",
       "      <th>region</th>\n",
       "      <th>charges</th>\n",
       "    </tr>\n",
       "  </thead>\n",
       "  <tbody>\n",
       "    <tr>\n",
       "      <th>0</th>\n",
       "      <td>19</td>\n",
       "      <td>female</td>\n",
       "      <td>27.900</td>\n",
       "      <td>0</td>\n",
       "      <td>yes</td>\n",
       "      <td>southwest</td>\n",
       "      <td>16884.92400</td>\n",
       "    </tr>\n",
       "    <tr>\n",
       "      <th>1</th>\n",
       "      <td>18</td>\n",
       "      <td>male</td>\n",
       "      <td>33.770</td>\n",
       "      <td>1</td>\n",
       "      <td>no</td>\n",
       "      <td>southeast</td>\n",
       "      <td>1725.55230</td>\n",
       "    </tr>\n",
       "    <tr>\n",
       "      <th>2</th>\n",
       "      <td>28</td>\n",
       "      <td>male</td>\n",
       "      <td>33.000</td>\n",
       "      <td>3</td>\n",
       "      <td>no</td>\n",
       "      <td>southeast</td>\n",
       "      <td>4449.46200</td>\n",
       "    </tr>\n",
       "    <tr>\n",
       "      <th>3</th>\n",
       "      <td>33</td>\n",
       "      <td>male</td>\n",
       "      <td>22.705</td>\n",
       "      <td>0</td>\n",
       "      <td>no</td>\n",
       "      <td>northwest</td>\n",
       "      <td>21984.47061</td>\n",
       "    </tr>\n",
       "    <tr>\n",
       "      <th>4</th>\n",
       "      <td>32</td>\n",
       "      <td>male</td>\n",
       "      <td>28.880</td>\n",
       "      <td>0</td>\n",
       "      <td>no</td>\n",
       "      <td>northwest</td>\n",
       "      <td>3866.85520</td>\n",
       "    </tr>\n",
       "  </tbody>\n",
       "</table>\n",
       "</div>"
      ],
      "text/plain": [
       "   age     sex     bmi  children smoker     region      charges\n",
       "0   19  female  27.900         0    yes  southwest  16884.92400\n",
       "1   18    male  33.770         1     no  southeast   1725.55230\n",
       "2   28    male  33.000         3     no  southeast   4449.46200\n",
       "3   33    male  22.705         0     no  northwest  21984.47061\n",
       "4   32    male  28.880         0     no  northwest   3866.85520"
      ]
     },
     "execution_count": 317,
     "metadata": {},
     "output_type": "execute_result"
    }
   ],
   "source": [
    "df.head()"
   ]
  },
  {
   "cell_type": "code",
   "execution_count": 318,
   "id": "265e0b7d",
   "metadata": {},
   "outputs": [
    {
     "data": {
      "text/plain": [
       "<bound method NDFrame.describe of       age     sex     bmi  children smoker     region      charges\n",
       "0      19  female  27.900         0    yes  southwest  16884.92400\n",
       "1      18    male  33.770         1     no  southeast   1725.55230\n",
       "2      28    male  33.000         3     no  southeast   4449.46200\n",
       "3      33    male  22.705         0     no  northwest  21984.47061\n",
       "4      32    male  28.880         0     no  northwest   3866.85520\n",
       "...   ...     ...     ...       ...    ...        ...          ...\n",
       "1333   50    male  30.970         3     no  northwest  10600.54830\n",
       "1334   18  female  31.920         0     no  northeast   2205.98080\n",
       "1335   18  female  36.850         0     no  southeast   1629.83350\n",
       "1336   21  female  25.800         0     no  southwest   2007.94500\n",
       "1337   61  female  29.070         0    yes  northwest  29141.36030\n",
       "\n",
       "[1338 rows x 7 columns]>"
      ]
     },
     "execution_count": 318,
     "metadata": {},
     "output_type": "execute_result"
    }
   ],
   "source": [
    "df.describe"
   ]
  },
  {
   "cell_type": "code",
   "execution_count": 319,
   "id": "27088dd2",
   "metadata": {},
   "outputs": [
    {
     "data": {
      "text/plain": [
       "np.int64(1)"
      ]
     },
     "execution_count": 319,
     "metadata": {},
     "output_type": "execute_result"
    }
   ],
   "source": [
    "df.duplicated().sum()"
   ]
  },
  {
   "cell_type": "code",
   "execution_count": 320,
   "id": "12e50e85",
   "metadata": {},
   "outputs": [],
   "source": [
    "df.drop_duplicates(inplace=True)"
   ]
  },
  {
   "cell_type": "code",
   "execution_count": 321,
   "id": "49931f0a",
   "metadata": {},
   "outputs": [
    {
     "data": {
      "text/plain": [
       "np.int64(0)"
      ]
     },
     "execution_count": 321,
     "metadata": {},
     "output_type": "execute_result"
    }
   ],
   "source": [
    "df.duplicated().sum()"
   ]
  },
  {
   "cell_type": "code",
   "execution_count": 322,
   "id": "24691995",
   "metadata": {},
   "outputs": [
    {
     "data": {
      "text/plain": [
       "age         0\n",
       "sex         0\n",
       "bmi         0\n",
       "children    0\n",
       "smoker      0\n",
       "region      0\n",
       "charges     0\n",
       "dtype: int64"
      ]
     },
     "execution_count": 322,
     "metadata": {},
     "output_type": "execute_result"
    }
   ],
   "source": [
    "df.isna().sum()"
   ]
  },
  {
   "cell_type": "code",
   "execution_count": 323,
   "id": "7d9f6f72",
   "metadata": {},
   "outputs": [
    {
     "data": {
      "text/plain": [
       "age         0\n",
       "sex         0\n",
       "bmi         0\n",
       "children    0\n",
       "smoker      0\n",
       "region      0\n",
       "charges     0\n",
       "dtype: int64"
      ]
     },
     "execution_count": 323,
     "metadata": {},
     "output_type": "execute_result"
    }
   ],
   "source": [
    "df.isnull().sum()"
   ]
  },
  {
   "cell_type": "code",
   "execution_count": 324,
   "id": "a64bfccd",
   "metadata": {},
   "outputs": [
    {
     "data": {
      "image/png": "[encoded data removed]",
      "text/plain": [
       "<Figure size 640x480 with 1 Axes>"
      ]
     },
     "metadata": {},
     "output_type": "display_data"
    }
   ],
   "source": [
    "sns.histplot(data=df , x=\"age\", binwidth=3)\n",
    "plt.show()\n"
   ]
  },
  {
   "cell_type": "code",
   "execution_count": 325,
   "id": "e848e6ee",
   "metadata": {},
   "outputs": [
    {
     "data": {
      "image/png": "[encoded data removed]",
      "text/plain": [
       "<Figure size 640x480 with 2 Axes>"
      ]
     },
     "metadata": {},
     "output_type": "display_data"
    }
   ],
   "source": [
    "selected_columns_nums = ['age' , 'bmi' , 'children' , 'charges']\n",
    "df_num = df[selected_columns_nums]\n",
    "sns.heatmap(df_num.corr() , annot=True , cmap=\"Blues\" , fmt=\".2f\" )\n",
    "plt.show()\n"
   ]
  },
  {
   "cell_type": "code",
   "execution_count": 326,
   "id": "7b03d787",
   "metadata": {},
   "outputs": [
    {
     "name": "stdout",
     "output_type": "stream",
     "text": [
      "       age     sex     bmi  children smoker     region      charges\n",
      "0     19.0  female  27.900       0.0    yes  southwest  16884.92400\n",
      "1     18.0    male  33.770       1.0     no  southeast   1725.55230\n",
      "2     28.0    male  33.000       3.0     no  southeast   4449.46200\n",
      "3     33.0    male  22.705       0.0     no  northwest  21984.47061\n",
      "4     32.0    male  28.880       0.0     no  northwest   3866.85520\n",
      "...    ...     ...     ...       ...    ...        ...          ...\n",
      "1333  50.0    male  30.970       3.0     no  northwest  10600.54830\n",
      "1334  18.0  female  31.920       0.0     no  northeast   2205.98080\n",
      "1335  18.0  female  36.850       0.0     no  southeast   1629.83350\n",
      "1336  21.0  female  25.800       0.0     no  southwest   2007.94500\n",
      "1337  61.0  female  29.070       0.0    yes  northwest  29141.36030\n",
      "\n",
      "[1337 rows x 7 columns]\n"
     ]
    },
    {
     "name": "stderr",
     "output_type": "stream",
     "text": [
      "C:\\Users\\abirm\\AppData\\Local\\Temp\\ipykernel_35380\\976773499.py:13: SettingWithCopyWarning: \n",
      "A value is trying to be set on a copy of a slice from a DataFrame\n",
      "\n",
      "See the caveats in the documentation: https://pandas.pydata.org/pandas-docs/stable/user_guide/indexing.html#returning-a-view-versus-a-copy\n",
      "  df[selected_columns_string].fillna(mode_category, inplace=True)\n",
      "C:\\Users\\abirm\\AppData\\Local\\Temp\\ipykernel_35380\\976773499.py:13: SettingWithCopyWarning: \n",
      "A value is trying to be set on a copy of a slice from a DataFrame\n",
      "\n",
      "See the caveats in the documentation: https://pandas.pydata.org/pandas-docs/stable/user_guide/indexing.html#returning-a-view-versus-a-copy\n",
      "  df[selected_columns_string].fillna(mode_category, inplace=True)\n",
      "C:\\Users\\abirm\\AppData\\Local\\Temp\\ipykernel_35380\\976773499.py:13: SettingWithCopyWarning: \n",
      "A value is trying to be set on a copy of a slice from a DataFrame\n",
      "\n",
      "See the caveats in the documentation: https://pandas.pydata.org/pandas-docs/stable/user_guide/indexing.html#returning-a-view-versus-a-copy\n",
      "  df[selected_columns_string].fillna(mode_category, inplace=True)\n"
     ]
    }
   ],
   "source": [
    "selected_columns_nums = ['age' , 'bmi' , 'children' , 'charges']\n",
    "\n",
    "imputer_mean = SimpleImputer(strategy='mean')\n",
    "df[selected_columns_nums] = imputer_mean.fit_transform(df[selected_columns_nums])\n",
    "\n",
    "\n",
    "selected_columns_string = ['sex' , 'smoker' , 'region']\n",
    "for i in range(len(selected_columns_string)):\n",
    "    \n",
    "    mode_category = df[selected_columns_string[i]].mode()[0]\n",
    "\n",
    "    # Fill missing values with the calculated mode\n",
    "    df[selected_columns_string].fillna(mode_category, inplace=True)\n",
    "    \n",
    "print(df)\n",
    "\n",
    "    \n",
    "\n"
   ]
  },
  {
   "cell_type": "code",
   "execution_count": 327,
   "id": "d375486d",
   "metadata": {},
   "outputs": [
    {
     "data": {
      "text/plain": [
       "np.int64(0)"
      ]
     },
     "execution_count": 327,
     "metadata": {},
     "output_type": "execute_result"
    }
   ],
   "source": [
    "df.duplicated().sum()"
   ]
  },
  {
   "cell_type": "code",
   "execution_count": 328,
   "id": "07717172",
   "metadata": {},
   "outputs": [
    {
     "data": {
      "text/plain": [
       "<Axes: title={'center': 'charges'}, xlabel='region'>"
      ]
     },
     "execution_count": 328,
     "metadata": {},
     "output_type": "execute_result"
    },
    {
     "data": {
      "image/png": "[encoded data removed]",
      "text/plain": [
       "<Figure size 640x480 with 1 Axes>"
      ]
     },
     "metadata": {},
     "output_type": "display_data"
    }
   ],
   "source": [
    "df.boxplot(by ='region', column =['charges'], grid = False)"
   ]
  },
  {
   "cell_type": "code",
   "execution_count": 329,
   "id": "7b5f1e16",
   "metadata": {},
   "outputs": [
    {
     "name": "stdout",
     "output_type": "stream",
     "text": [
      "(1337, 7)\n"
     ]
    }
   ],
   "source": [
    "print(df.shape)"
   ]
  },
  {
   "cell_type": "code",
   "execution_count": 382,
   "id": "888d07a1",
   "metadata": {},
   "outputs": [
    {
     "name": "stdout",
     "output_type": "stream",
     "text": [
      "       age     sex     bmi  children smoker     region      charges\n",
      "0     19.0  female  27.900       0.0    yes  southwest  16884.92400\n",
      "1     18.0    male  33.770       1.0     no  southeast   1725.55230\n",
      "2     28.0    male  33.000       3.0     no  southeast   4449.46200\n",
      "3     33.0    male  22.705       0.0     no  northwest  21984.47061\n",
      "4     32.0    male  28.880       0.0     no  northwest   3866.85520\n",
      "...    ...     ...     ...       ...    ...        ...          ...\n",
      "1332  52.0  female  44.700       3.0     no  southwest  11411.68500\n",
      "1333  50.0    male  30.970       3.0     no  northwest  10600.54830\n",
      "1334  18.0  female  31.920       0.0     no  northeast   2205.98080\n",
      "1335  18.0  female  36.850       0.0     no  southeast   1629.83350\n",
      "1336  21.0  female  25.800       0.0     no  southwest   2007.94500\n",
      "\n",
      "[1087 rows x 7 columns]\n"
     ]
    }
   ],
   "source": [
    "from scipy.stats import zscore\n",
    "\n",
    "for i in range(len(selected_columns_nums)):\n",
    "    df['Z-score'] = zscore(df[selected_columns_nums[i]])\n",
    "    df = df[df['Z-score'].abs() <= 3]  \n",
    "\n",
    "df = df.drop(columns=['Z-score'])     \n",
    "print(df)\n",
    "\n",
    "\n"
   ]
  },
  {
   "cell_type": "code",
   "execution_count": 331,
   "id": "731ad5b5",
   "metadata": {},
   "outputs": [],
   "source": [
    "#outliers = df[df['Z-score'].abs() > 3]\n",
    "#print(outliers)\n"
   ]
  },
  {
   "cell_type": "code",
   "execution_count": 332,
   "id": "a2267379",
   "metadata": {},
   "outputs": [
    {
     "name": "stdout",
     "output_type": "stream",
     "text": [
      "Index(['age', 'sex', 'bmi', 'children', 'smoker', 'region', 'charges'], dtype='object')\n"
     ]
    }
   ],
   "source": [
    "print(df.columns)\n"
   ]
  },
  {
   "cell_type": "code",
   "execution_count": 397,
   "id": "7c792003",
   "metadata": {},
   "outputs": [
    {
     "name": "stdout",
     "output_type": "stream",
     "text": [
      "       age     sex     bmi  children smoker     region      charges\n",
      "0     19.0  female  27.900       0.0    yes  southwest  16884.92400\n",
      "1     18.0    male  33.770       1.0     no  southeast   1725.55230\n",
      "2     28.0    male  33.000       3.0     no  southeast   4449.46200\n",
      "3     33.0    male  22.705       0.0     no  northwest  21984.47061\n",
      "4     32.0    male  28.880       0.0     no  northwest   3866.85520\n",
      "...    ...     ...     ...       ...    ...        ...          ...\n",
      "1332  52.0  female  44.700       3.0     no  southwest  11411.68500\n",
      "1333  50.0    male  30.970       3.0     no  northwest  10600.54830\n",
      "1334  18.0  female  31.920       0.0     no  northeast   2205.98080\n",
      "1335  18.0  female  36.850       0.0     no  southeast   1629.83350\n",
      "1336  21.0  female  25.800       0.0     no  southwest   2007.94500\n",
      "\n",
      "[1087 rows x 7 columns]\n"
     ]
    }
   ],
   "source": [
    "for i in range(len(selected_columns_nums)):\n",
    "    Q1 = df[selected_columns_nums[i]].quantile(0.25)\n",
    "    Q3 = df[selected_columns_nums[i]].quantile(0.75)\n",
    "    IQR = Q3 - Q1\n",
    "\n",
    "    # Calculate bounds\n",
    "    lower_bound = Q1 - 1.5 * IQR\n",
    "    upper_bound = Q3 + 1.5 * IQR\n",
    "\n",
    "    # Detect outliers\n",
    "    df = df[(df[selected_columns_nums[i]] >= lower_bound) & (df[selected_columns_nums[i]] <= upper_bound)]\n",
    "\n",
    "print(df)\n",
    "\n",
    "\n",
    "\n",
    "\n"
   ]
  },
  {
   "cell_type": "code",
   "execution_count": 398,
   "id": "3e2e1bf3",
   "metadata": {},
   "outputs": [
    {
     "name": "stdout",
     "output_type": "stream",
     "text": [
      "(1087, 7)\n"
     ]
    }
   ],
   "source": [
    "print(df.shape)\n",
    "df_cleaned = df"
   ]
  },
  {
   "cell_type": "code",
   "execution_count": 400,
   "id": "0181af85",
   "metadata": {},
   "outputs": [
    {
     "data": {
      "text/plain": [
       "<Axes: title={'center': 'bmi'}, xlabel='sex'>"
      ]
     },
     "execution_count": 400,
     "metadata": {},
     "output_type": "execute_result"
    },
    {
     "data": {
      "image/png": "[encoded data removed]",
      "text/plain": [
       "<Figure size 640x480 with 1 Axes>"
      ]
     },
     "metadata": {},
     "output_type": "display_data"
    }
   ],
   "source": [
    "df_cleaned.boxplot(by ='sex', column =['bmi'], grid = False)"
   ]
  },
  {
   "cell_type": "code",
   "execution_count": 402,
   "id": "b610051c",
   "metadata": {},
   "outputs": [
    {
     "name": "stdout",
     "output_type": "stream",
     "text": [
      "['sex', 'smoker', 'region']\n",
      "      sex_female  sex_male  smoker_no  smoker_yes  region_northeast  \\\n",
      "0            1.0       0.0        0.0         1.0               0.0   \n",
      "1            0.0       1.0        1.0         0.0               0.0   \n",
      "2            0.0       1.0        1.0         0.0               0.0   \n",
      "3            0.0       1.0        1.0         0.0               0.0   \n",
      "4            0.0       1.0        1.0         0.0               0.0   \n",
      "...          ...       ...        ...         ...               ...   \n",
      "1332         1.0       0.0        1.0         0.0               0.0   \n",
      "1333         0.0       1.0        1.0         0.0               0.0   \n",
      "1334         1.0       0.0        1.0         0.0               1.0   \n",
      "1335         1.0       0.0        1.0         0.0               0.0   \n",
      "1336         1.0       0.0        1.0         0.0               0.0   \n",
      "\n",
      "      region_northwest  region_southeast  region_southwest  \n",
      "0                  0.0               0.0               1.0  \n",
      "1                  0.0               1.0               0.0  \n",
      "2                  0.0               1.0               0.0  \n",
      "3                  1.0               0.0               0.0  \n",
      "4                  1.0               0.0               0.0  \n",
      "...                ...               ...               ...  \n",
      "1332               0.0               0.0               1.0  \n",
      "1333               1.0               0.0               0.0  \n",
      "1334               0.0               0.0               0.0  \n",
      "1335               0.0               1.0               0.0  \n",
      "1336               0.0               0.0               1.0  \n",
      "\n",
      "[1087 rows x 8 columns]\n"
     ]
    }
   ],
   "source": [
    "catg_cols = df.select_dtypes(include='object').columns.to_list()\n",
    "print(catg_cols)\n",
    "from sklearn.preprocessing import OneHotEncoder\n",
    "encoder = OneHotEncoder(sparse_output=False , handle_unknown='ignore' )\n",
    "encoder.fit(df[catg_cols])\n",
    "\n",
    "encoded_cols = list(encoder.get_feature_names_out(catg_cols))\n",
    "df[encoded_cols] = encoder.transform(df[catg_cols])\n",
    "print(df[encoded_cols])"
   ]
  },
  {
   "cell_type": "code",
   "execution_count": 414,
   "id": "cba72438",
   "metadata": {},
   "outputs": [
    {
     "data": {
      "text/html": [
       "<div>\n",
       "<style scoped>\n",
       "    .dataframe tbody tr th:only-of-type {\n",
       "        vertical-align: middle;\n",
       "    }\n",
       "\n",
       "    .dataframe tbody tr th {\n",
       "        vertical-align: top;\n",
       "    }\n",
       "\n",
       "    .dataframe thead th {\n",
       "        text-align: right;\n",
       "    }\n",
       "</style>\n",
       "<table border=\"1\" class=\"dataframe\">\n",
       "  <thead>\n",
       "    <tr style=\"text-align: right;\">\n",
       "      <th></th>\n",
       "      <th>age</th>\n",
       "      <th>children</th>\n",
       "      <th>charges</th>\n",
       "      <th>sex_female</th>\n",
       "      <th>sex_male</th>\n",
       "      <th>smoker_no</th>\n",
       "      <th>smoker_yes</th>\n",
       "      <th>region_northeast</th>\n",
       "      <th>region_northwest</th>\n",
       "      <th>region_southeast</th>\n",
       "      <th>region_southwest</th>\n",
       "    </tr>\n",
       "  </thead>\n",
       "  <tbody>\n",
       "    <tr>\n",
       "      <th>count</th>\n",
       "      <td>869.000</td>\n",
       "      <td>869.000</td>\n",
       "      <td>869.000</td>\n",
       "      <td>869.000</td>\n",
       "      <td>869.000</td>\n",
       "      <td>869.000</td>\n",
       "      <td>869.000</td>\n",
       "      <td>869.000</td>\n",
       "      <td>869.000</td>\n",
       "      <td>869.000</td>\n",
       "      <td>869.000</td>\n",
       "    </tr>\n",
       "    <tr>\n",
       "      <th>mean</th>\n",
       "      <td>38.743</td>\n",
       "      <td>1.008</td>\n",
       "      <td>8656.609</td>\n",
       "      <td>0.519</td>\n",
       "      <td>0.481</td>\n",
       "      <td>0.921</td>\n",
       "      <td>0.079</td>\n",
       "      <td>0.236</td>\n",
       "      <td>0.253</td>\n",
       "      <td>0.251</td>\n",
       "      <td>0.260</td>\n",
       "    </tr>\n",
       "    <tr>\n",
       "      <th>std</th>\n",
       "      <td>13.807</td>\n",
       "      <td>1.126</td>\n",
       "      <td>5429.278</td>\n",
       "      <td>0.500</td>\n",
       "      <td>0.500</td>\n",
       "      <td>0.271</td>\n",
       "      <td>0.271</td>\n",
       "      <td>0.425</td>\n",
       "      <td>0.435</td>\n",
       "      <td>0.434</td>\n",
       "      <td>0.439</td>\n",
       "    </tr>\n",
       "    <tr>\n",
       "      <th>min</th>\n",
       "      <td>18.000</td>\n",
       "      <td>0.000</td>\n",
       "      <td>1121.874</td>\n",
       "      <td>0.000</td>\n",
       "      <td>0.000</td>\n",
       "      <td>0.000</td>\n",
       "      <td>0.000</td>\n",
       "      <td>0.000</td>\n",
       "      <td>0.000</td>\n",
       "      <td>0.000</td>\n",
       "      <td>0.000</td>\n",
       "    </tr>\n",
       "    <tr>\n",
       "      <th>25%</th>\n",
       "      <td>27.000</td>\n",
       "      <td>0.000</td>\n",
       "      <td>4237.127</td>\n",
       "      <td>0.000</td>\n",
       "      <td>0.000</td>\n",
       "      <td>1.000</td>\n",
       "      <td>0.000</td>\n",
       "      <td>0.000</td>\n",
       "      <td>0.000</td>\n",
       "      <td>0.000</td>\n",
       "      <td>0.000</td>\n",
       "    </tr>\n",
       "    <tr>\n",
       "      <th>50%</th>\n",
       "      <td>39.000</td>\n",
       "      <td>1.000</td>\n",
       "      <td>7789.635</td>\n",
       "      <td>1.000</td>\n",
       "      <td>0.000</td>\n",
       "      <td>1.000</td>\n",
       "      <td>0.000</td>\n",
       "      <td>0.000</td>\n",
       "      <td>0.000</td>\n",
       "      <td>0.000</td>\n",
       "      <td>0.000</td>\n",
       "    </tr>\n",
       "    <tr>\n",
       "      <th>75%</th>\n",
       "      <td>51.000</td>\n",
       "      <td>2.000</td>\n",
       "      <td>11884.049</td>\n",
       "      <td>1.000</td>\n",
       "      <td>1.000</td>\n",
       "      <td>1.000</td>\n",
       "      <td>0.000</td>\n",
       "      <td>0.000</td>\n",
       "      <td>1.000</td>\n",
       "      <td>1.000</td>\n",
       "      <td>1.000</td>\n",
       "    </tr>\n",
       "    <tr>\n",
       "      <th>max</th>\n",
       "      <td>64.000</td>\n",
       "      <td>4.000</td>\n",
       "      <td>23563.016</td>\n",
       "      <td>1.000</td>\n",
       "      <td>1.000</td>\n",
       "      <td>1.000</td>\n",
       "      <td>1.000</td>\n",
       "      <td>1.000</td>\n",
       "      <td>1.000</td>\n",
       "      <td>1.000</td>\n",
       "      <td>1.000</td>\n",
       "    </tr>\n",
       "  </tbody>\n",
       "</table>\n",
       "</div>"
      ],
      "text/plain": [
       "           age  children    charges  sex_female  sex_male  smoker_no  \\\n",
       "count  869.000   869.000    869.000     869.000   869.000    869.000   \n",
       "mean    38.743     1.008   8656.609       0.519     0.481      0.921   \n",
       "std     13.807     1.126   5429.278       0.500     0.500      0.271   \n",
       "min     18.000     0.000   1121.874       0.000     0.000      0.000   \n",
       "25%     27.000     0.000   4237.127       0.000     0.000      1.000   \n",
       "50%     39.000     1.000   7789.635       1.000     0.000      1.000   \n",
       "75%     51.000     2.000  11884.049       1.000     1.000      1.000   \n",
       "max     64.000     4.000  23563.016       1.000     1.000      1.000   \n",
       "\n",
       "       smoker_yes  region_northeast  region_northwest  region_southeast  \\\n",
       "count     869.000           869.000           869.000           869.000   \n",
       "mean        0.079             0.236             0.253             0.251   \n",
       "std         0.271             0.425             0.435             0.434   \n",
       "min         0.000             0.000             0.000             0.000   \n",
       "25%         0.000             0.000             0.000             0.000   \n",
       "50%         0.000             0.000             0.000             0.000   \n",
       "75%         0.000             0.000             1.000             1.000   \n",
       "max         1.000             1.000             1.000             1.000   \n",
       "\n",
       "       region_southwest  \n",
       "count           869.000  \n",
       "mean              0.260  \n",
       "std               0.439  \n",
       "min               0.000  \n",
       "25%               0.000  \n",
       "50%               0.000  \n",
       "75%               1.000  \n",
       "max               1.000  "
      ]
     },
     "execution_count": 414,
     "metadata": {},
     "output_type": "execute_result"
    }
   ],
   "source": [
    "from sklearn.model_selection import train_test_split\n",
    "X = df_cleaned.drop(columns=['bmi' , 'sex' , 'region' , 'smoker'])\n",
    "Y = df_cleaned['bmi']\n",
    "X.head()\n",
    "Y.head()\n",
    "X.shape\n",
    "Y.shape\n",
    "X_train , X_test , Y_train , Y_test = train_test_split(X ,Y , random_state=11 , test_size=0.2)\n",
    "X_train.shape\n",
    "X_test.shape\n",
    "Y_train.shape\n",
    "Y_test.shape\n",
    "X_train.describe().round(3)\n",
    "\n"
   ]
  },
  {
   "cell_type": "code",
   "execution_count": 415,
   "id": "3db31937",
   "metadata": {},
   "outputs": [
    {
     "data": {
      "text/html": [
       "<div>\n",
       "<style scoped>\n",
       "    .dataframe tbody tr th:only-of-type {\n",
       "        vertical-align: middle;\n",
       "    }\n",
       "\n",
       "    .dataframe tbody tr th {\n",
       "        vertical-align: top;\n",
       "    }\n",
       "\n",
       "    .dataframe thead th {\n",
       "        text-align: right;\n",
       "    }\n",
       "</style>\n",
       "<table border=\"1\" class=\"dataframe\">\n",
       "  <thead>\n",
       "    <tr style=\"text-align: right;\">\n",
       "      <th></th>\n",
       "      <th>age</th>\n",
       "      <th>bmi</th>\n",
       "      <th>children</th>\n",
       "      <th>charges</th>\n",
       "    </tr>\n",
       "  </thead>\n",
       "  <tbody>\n",
       "    <tr>\n",
       "      <th>count</th>\n",
       "      <td>1087.000</td>\n",
       "      <td>1087.000</td>\n",
       "      <td>1087.000</td>\n",
       "      <td>1087.000</td>\n",
       "    </tr>\n",
       "    <tr>\n",
       "      <th>mean</th>\n",
       "      <td>0.000</td>\n",
       "      <td>-0.000</td>\n",
       "      <td>-0.000</td>\n",
       "      <td>-0.000</td>\n",
       "    </tr>\n",
       "    <tr>\n",
       "      <th>std</th>\n",
       "      <td>1.000</td>\n",
       "      <td>1.000</td>\n",
       "      <td>1.000</td>\n",
       "      <td>1.000</td>\n",
       "    </tr>\n",
       "    <tr>\n",
       "      <th>min</th>\n",
       "      <td>-1.476</td>\n",
       "      <td>-2.409</td>\n",
       "      <td>-0.904</td>\n",
       "      <td>-1.369</td>\n",
       "    </tr>\n",
       "    <tr>\n",
       "      <th>25%</th>\n",
       "      <td>-0.901</td>\n",
       "      <td>-0.718</td>\n",
       "      <td>-0.904</td>\n",
       "      <td>-0.820</td>\n",
       "    </tr>\n",
       "    <tr>\n",
       "      <th>50%</th>\n",
       "      <td>-0.038</td>\n",
       "      <td>-0.041</td>\n",
       "      <td>-0.011</td>\n",
       "      <td>-0.165</td>\n",
       "    </tr>\n",
       "    <tr>\n",
       "      <th>75%</th>\n",
       "      <td>0.824</td>\n",
       "      <td>0.661</td>\n",
       "      <td>0.883</td>\n",
       "      <td>0.603</td>\n",
       "    </tr>\n",
       "    <tr>\n",
       "      <th>max</th>\n",
       "      <td>1.831</td>\n",
       "      <td>2.657</td>\n",
       "      <td>2.671</td>\n",
       "      <td>2.721</td>\n",
       "    </tr>\n",
       "  </tbody>\n",
       "</table>\n",
       "</div>"
      ],
      "text/plain": [
       "            age       bmi  children   charges\n",
       "count  1087.000  1087.000  1087.000  1087.000\n",
       "mean      0.000    -0.000    -0.000    -0.000\n",
       "std       1.000     1.000     1.000     1.000\n",
       "min      -1.476    -2.409    -0.904    -1.369\n",
       "25%      -0.901    -0.718    -0.904    -0.820\n",
       "50%      -0.038    -0.041    -0.011    -0.165\n",
       "75%       0.824     0.661     0.883     0.603\n",
       "max       1.831     2.657     2.671     2.721"
      ]
     },
     "execution_count": 415,
     "metadata": {},
     "output_type": "execute_result"
    }
   ],
   "source": [
    "\n",
    "\n",
    "X1 = df_cleaned[selected_columns_nums]\n",
    "X2 = df_cleaned[selected_columns_nums]\n",
    "from sklearn.preprocessing import StandardScaler\n",
    "scaleStandard = StandardScaler()\n",
    "X1 = scaleStandard.fit_transform(X1)\n",
    "X1 = pd.DataFrame(X1 , columns=selected_columns_nums)\n",
    "X1.head()\n",
    "X1.describe().round(3)\n",
    "\n"
   ]
  },
  {
   "cell_type": "code",
   "execution_count": 416,
   "id": "e1d791ad",
   "metadata": {},
   "outputs": [
    {
     "data": {
      "text/html": [
       "<div>\n",
       "<style scoped>\n",
       "    .dataframe tbody tr th:only-of-type {\n",
       "        vertical-align: middle;\n",
       "    }\n",
       "\n",
       "    .dataframe tbody tr th {\n",
       "        vertical-align: top;\n",
       "    }\n",
       "\n",
       "    .dataframe thead th {\n",
       "        text-align: right;\n",
       "    }\n",
       "</style>\n",
       "<table border=\"1\" class=\"dataframe\">\n",
       "  <thead>\n",
       "    <tr style=\"text-align: right;\">\n",
       "      <th></th>\n",
       "      <th>age</th>\n",
       "      <th>bmi</th>\n",
       "      <th>children</th>\n",
       "      <th>charges</th>\n",
       "    </tr>\n",
       "  </thead>\n",
       "  <tbody>\n",
       "    <tr>\n",
       "      <th>count</th>\n",
       "      <td>1087.000</td>\n",
       "      <td>1087.000</td>\n",
       "      <td>1087.000</td>\n",
       "      <td>1087.000</td>\n",
       "    </tr>\n",
       "    <tr>\n",
       "      <th>mean</th>\n",
       "      <td>0.446</td>\n",
       "      <td>0.476</td>\n",
       "      <td>0.253</td>\n",
       "      <td>0.335</td>\n",
       "    </tr>\n",
       "    <tr>\n",
       "      <th>std</th>\n",
       "      <td>0.303</td>\n",
       "      <td>0.197</td>\n",
       "      <td>0.280</td>\n",
       "      <td>0.245</td>\n",
       "    </tr>\n",
       "    <tr>\n",
       "      <th>min</th>\n",
       "      <td>0.000</td>\n",
       "      <td>0.000</td>\n",
       "      <td>0.000</td>\n",
       "      <td>0.000</td>\n",
       "    </tr>\n",
       "    <tr>\n",
       "      <th>25%</th>\n",
       "      <td>0.174</td>\n",
       "      <td>0.334</td>\n",
       "      <td>0.000</td>\n",
       "      <td>0.134</td>\n",
       "    </tr>\n",
       "    <tr>\n",
       "      <th>50%</th>\n",
       "      <td>0.435</td>\n",
       "      <td>0.467</td>\n",
       "      <td>0.250</td>\n",
       "      <td>0.294</td>\n",
       "    </tr>\n",
       "    <tr>\n",
       "      <th>75%</th>\n",
       "      <td>0.696</td>\n",
       "      <td>0.606</td>\n",
       "      <td>0.500</td>\n",
       "      <td>0.482</td>\n",
       "    </tr>\n",
       "    <tr>\n",
       "      <th>max</th>\n",
       "      <td>1.000</td>\n",
       "      <td>1.000</td>\n",
       "      <td>1.000</td>\n",
       "      <td>1.000</td>\n",
       "    </tr>\n",
       "  </tbody>\n",
       "</table>\n",
       "</div>"
      ],
      "text/plain": [
       "            age       bmi  children   charges\n",
       "count  1087.000  1087.000  1087.000  1087.000\n",
       "mean      0.446     0.476     0.253     0.335\n",
       "std       0.303     0.197     0.280     0.245\n",
       "min       0.000     0.000     0.000     0.000\n",
       "25%       0.174     0.334     0.000     0.134\n",
       "50%       0.435     0.467     0.250     0.294\n",
       "75%       0.696     0.606     0.500     0.482\n",
       "max       1.000     1.000     1.000     1.000"
      ]
     },
     "execution_count": 416,
     "metadata": {},
     "output_type": "execute_result"
    }
   ],
   "source": [
    "from sklearn.preprocessing import MinMaxScaler\n",
    "scaleminmax = MinMaxScaler(feature_range=(0,1))\n",
    "X2 = scaleminmax.fit_transform(X2)\n",
    "X2 = pd.DataFrame(X2 , columns=selected_columns_nums)\n",
    "X2.describe().round(3)\n",
    "\n"
   ]
  },
  {
   "cell_type": "code",
   "execution_count": 424,
   "id": "3beb9a0e",
   "metadata": {},
   "outputs": [
    {
     "data": {
      "text/plain": [
       "4.666980965851627"
      ]
     },
     "execution_count": 424,
     "metadata": {},
     "output_type": "execute_result"
    }
   ],
   "source": [
    "from sklearn.linear_model import LinearRegression\n",
    "from sklearn.metrics import mean_absolute_error , mean_squared_error , r2_score\n",
    "lm = LinearRegression()\n",
    "lm.fit(X_train , Y_train)\n",
    "lm.coef_\n",
    "cdf = pd.DataFrame(lm.coef_ , X.columns , columns=['Coef'])\n",
    "#print(cdf)\n",
    "\n",
    "y_pred = lm.predict(X_test)\n",
    "mean_absolute_error(Y_test, y_pred)\n",
    "\n",
    "\n",
    "\n",
    "\n"
   ]
  },
  {
   "cell_type": "code",
   "execution_count": 425,
   "id": "6190eb82",
   "metadata": {},
   "outputs": [
    {
     "data": {
      "text/plain": [
       "32.67928994627352"
      ]
     },
     "execution_count": 425,
     "metadata": {},
     "output_type": "execute_result"
    }
   ],
   "source": [
    "mean_squared_error(Y_test , y_pred)"
   ]
  },
  {
   "cell_type": "code",
   "execution_count": 426,
   "id": "d887b669",
   "metadata": {},
   "outputs": [
    {
     "data": {
      "text/plain": [
       "0.10774887133155431"
      ]
     },
     "execution_count": 426,
     "metadata": {},
     "output_type": "execute_result"
    }
   ],
   "source": [
    "r2_score(Y_test , y_pred)"
   ]
  },
  {
   "cell_type": "code",
   "execution_count": 421,
   "id": "aba4a229",
   "metadata": {},
   "outputs": [
    {
     "data": {
      "text/plain": [
       "4.34677362385321"
      ]
     },
     "execution_count": 421,
     "metadata": {},
     "output_type": "execute_result"
    }
   ],
   "source": [
    "from sklearn.ensemble import RandomForestRegressor\n",
    "rfr = RandomForestRegressor(random_state=13)\n",
    "rfr.fit(X_train , Y_train)\n",
    "y_pred = rfr.predict(X_test)\n",
    "from sklearn.metrics import mean_absolute_error , mean_squared_error , r2_score\n",
    "mean_absolute_error(Y_test, y_pred)\n"
   ]
  },
  {
   "cell_type": "code",
   "execution_count": 422,
   "id": "43c09f3e",
   "metadata": {},
   "outputs": [
    {
     "data": {
      "text/plain": [
       "31.279119256800445"
      ]
     },
     "execution_count": 422,
     "metadata": {},
     "output_type": "execute_result"
    }
   ],
   "source": [
    "mean_squared_error(Y_test , y_pred)"
   ]
  },
  {
   "cell_type": "code",
   "execution_count": 423,
   "id": "222cfeda",
   "metadata": {},
   "outputs": [
    {
     "data": {
      "text/plain": [
       "0.14597809479585688"
      ]
     },
     "execution_count": 423,
     "metadata": {},
     "output_type": "execute_result"
    }
   ],
   "source": [
    "r2_score(Y_test , y_pred)"
   ]
  },
  {
   "cell_type": "code",
   "execution_count": 427,
   "id": "9f8e9c7b",
   "metadata": {},
   "outputs": [
    {
     "data": {
      "text/plain": [
       "4.719056132955289"
      ]
     },
     "execution_count": 427,
     "metadata": {},
     "output_type": "execute_result"
    }
   ],
   "source": [
    "from xgboost import XGBRegressor\n",
    "xgb = XGBRegressor()\n",
    "xgb.fit(X_train , Y_train)\n",
    "y_pred = xgb.predict(X_test)\n",
    "mean_absolute_error(Y_test, y_pred)\n"
   ]
  },
  {
   "cell_type": "code",
   "execution_count": 429,
   "id": "0434ecae",
   "metadata": {},
   "outputs": [
    {
     "data": {
      "text/plain": [
       "1.4013932401703197"
      ]
     },
     "execution_count": 429,
     "metadata": {},
     "output_type": "execute_result"
    }
   ],
   "source": [
    "y_pred_train = xgb.predict(X_train)\n",
    "mean_absolute_error( Y_train, y_pred_train)"
   ]
  },
  {
   "cell_type": "code",
   "execution_count": 430,
   "id": "66c7cce7",
   "metadata": {},
   "outputs": [
    {
     "data": {
      "text/plain": [
       "37.27960416125074"
      ]
     },
     "execution_count": 430,
     "metadata": {},
     "output_type": "execute_result"
    }
   ],
   "source": [
    "mean_squared_error(Y_test , y_pred)"
   ]
  },
  {
   "cell_type": "code",
   "execution_count": 431,
   "id": "73f00432",
   "metadata": {},
   "outputs": [
    {
     "data": {
      "text/plain": [
       "-0.01785470075618556"
      ]
     },
     "execution_count": 431,
     "metadata": {},
     "output_type": "execute_result"
    }
   ],
   "source": [
    "r2_score(Y_test , y_pred)"
   ]
  },
  {
   "cell_type": "code",
   "execution_count": 432,
   "id": "bd23d7f3",
   "metadata": {},
   "outputs": [
    {
     "data": {
      "text/plain": [
       "5.004431017677428"
      ]
     },
     "execution_count": 432,
     "metadata": {},
     "output_type": "execute_result"
    }
   ],
   "source": [
    "from sklearn.svm import SVR\n",
    "\n",
    "svr = SVR()\n",
    "svr.fit(X_train , Y_train)\n",
    "\n",
    "y_pred = svr.predict(X_test)\n",
    "mean_absolute_error(Y_test , y_pred)"
   ]
  },
  {
   "cell_type": "code",
   "execution_count": 434,
   "id": "e83e3848",
   "metadata": {},
   "outputs": [
    {
     "data": {
      "text/plain": [
       "37.68839114800664"
      ]
     },
     "execution_count": 434,
     "metadata": {},
     "output_type": "execute_result"
    }
   ],
   "source": [
    "mean_squared_error(Y_test , y_pred)"
   ]
  },
  {
   "cell_type": "code",
   "execution_count": 435,
   "id": "79eb4e5b",
   "metadata": {},
   "outputs": [
    {
     "data": {
      "text/plain": [
       "-0.029015917873129515"
      ]
     },
     "execution_count": 435,
     "metadata": {},
     "output_type": "execute_result"
    }
   ],
   "source": [
    "r2_score(Y_test , y_pred)"
   ]
  }
 ],
 "metadata": {
  "kernelspec": {
   "display_name": "Python 3",
   "language": "python",
   "name": "python3"
  },
  "language_info": {
   "codemirror_mode": {
    "name": "ipython",
    "version": 3
   },
   "file_extension": ".py",
   "mimetype": "text/x-python",
   "name": "python",
   "nbconvert_exporter": "python",
   "pygments_lexer": "ipython3",
   "version": "3.13.7"
  }
 },
 "nbformat": 4,
 "nbformat_minor": 5
}
