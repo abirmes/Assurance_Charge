{
 "cells": [
  {
   "cell_type": "code",
   "execution_count": 660,
   "id": "3432db09",
   "metadata": {},
   "outputs": [
    {
     "data": {
      "text/html": [
       "<div>\n",
       "<style scoped>\n",
       "    .dataframe tbody tr th:only-of-type {\n",
       "        vertical-align: middle;\n",
       "    }\n",
       "\n",
       "    .dataframe tbody tr th {\n",
       "        vertical-align: top;\n",
       "    }\n",
       "\n",
       "    .dataframe thead th {\n",
       "        text-align: right;\n",
       "    }\n",
       "</style>\n",
       "<table border=\"1\" class=\"dataframe\">\n",
       "  <thead>\n",
       "    <tr style=\"text-align: right;\">\n",
       "      <th></th>\n",
       "      <th>age</th>\n",
       "      <th>bmi</th>\n",
       "      <th>children</th>\n",
       "      <th>charges</th>\n",
       "    </tr>\n",
       "  </thead>\n",
       "  <tbody>\n",
       "    <tr>\n",
       "      <th>count</th>\n",
       "      <td>1338.000</td>\n",
       "      <td>1338.000</td>\n",
       "      <td>1338.000</td>\n",
       "      <td>1338.000</td>\n",
       "    </tr>\n",
       "    <tr>\n",
       "      <th>mean</th>\n",
       "      <td>39.207</td>\n",
       "      <td>30.663</td>\n",
       "      <td>1.095</td>\n",
       "      <td>13270.422</td>\n",
       "    </tr>\n",
       "    <tr>\n",
       "      <th>std</th>\n",
       "      <td>14.050</td>\n",
       "      <td>6.098</td>\n",
       "      <td>1.205</td>\n",
       "      <td>12110.011</td>\n",
       "    </tr>\n",
       "    <tr>\n",
       "      <th>min</th>\n",
       "      <td>18.000</td>\n",
       "      <td>15.960</td>\n",
       "      <td>0.000</td>\n",
       "      <td>1121.874</td>\n",
       "    </tr>\n",
       "    <tr>\n",
       "      <th>25%</th>\n",
       "      <td>27.000</td>\n",
       "      <td>26.296</td>\n",
       "      <td>0.000</td>\n",
       "      <td>4740.287</td>\n",
       "    </tr>\n",
       "    <tr>\n",
       "      <th>50%</th>\n",
       "      <td>39.000</td>\n",
       "      <td>30.400</td>\n",
       "      <td>1.000</td>\n",
       "      <td>9382.033</td>\n",
       "    </tr>\n",
       "    <tr>\n",
       "      <th>75%</th>\n",
       "      <td>51.000</td>\n",
       "      <td>34.694</td>\n",
       "      <td>2.000</td>\n",
       "      <td>16639.913</td>\n",
       "    </tr>\n",
       "    <tr>\n",
       "      <th>max</th>\n",
       "      <td>64.000</td>\n",
       "      <td>53.130</td>\n",
       "      <td>5.000</td>\n",
       "      <td>63770.428</td>\n",
       "    </tr>\n",
       "  </tbody>\n",
       "</table>\n",
       "</div>"
      ],
      "text/plain": [
       "            age       bmi  children    charges\n",
       "count  1338.000  1338.000  1338.000   1338.000\n",
       "mean     39.207    30.663     1.095  13270.422\n",
       "std      14.050     6.098     1.205  12110.011\n",
       "min      18.000    15.960     0.000   1121.874\n",
       "25%      27.000    26.296     0.000   4740.287\n",
       "50%      39.000    30.400     1.000   9382.033\n",
       "75%      51.000    34.694     2.000  16639.913\n",
       "max      64.000    53.130     5.000  63770.428"
      ]
     },
     "execution_count": 660,
     "metadata": {},
     "output_type": "execute_result"
    }
   ],
   "source": [
    "from sklearn.impute import SimpleImputer\n",
    "import numpy as np\n",
    "import pandas as pd\n",
    "import seaborn as sns\n",
    "import matplotlib.pyplot as plt\n",
    "from scipy.stats import zscore\n",
    "df = pd.read_csv('assurance_maladie.csv')\n",
    "df.describe().round(3)\n"
   ]
  },
  {
   "cell_type": "code",
   "execution_count": 661,
   "id": "33f1b2b2",
   "metadata": {},
   "outputs": [
    {
     "name": "stdout",
     "output_type": "stream",
     "text": [
      "<class 'pandas.core.frame.DataFrame'>\n",
      "RangeIndex: 1338 entries, 0 to 1337\n",
      "Data columns (total 7 columns):\n",
      " #   Column    Non-Null Count  Dtype  \n",
      "---  ------    --------------  -----  \n",
      " 0   age       1338 non-null   int64  \n",
      " 1   sex       1338 non-null   object \n",
      " 2   bmi       1338 non-null   float64\n",
      " 3   children  1338 non-null   int64  \n",
      " 4   smoker    1338 non-null   object \n",
      " 5   region    1338 non-null   object \n",
      " 6   charges   1338 non-null   float64\n",
      "dtypes: float64(2), int64(2), object(3)\n",
      "memory usage: 73.3+ KB\n"
     ]
    }
   ],
   "source": [
    "df.info()"
   ]
  },
  {
   "cell_type": "code",
   "execution_count": 662,
   "id": "fc66b67e",
   "metadata": {},
   "outputs": [
    {
     "data": {
      "text/html": [
       "<div>\n",
       "<style scoped>\n",
       "    .dataframe tbody tr th:only-of-type {\n",
       "        vertical-align: middle;\n",
       "    }\n",
       "\n",
       "    .dataframe tbody tr th {\n",
       "        vertical-align: top;\n",
       "    }\n",
       "\n",
       "    .dataframe thead th {\n",
       "        text-align: right;\n",
       "    }\n",
       "</style>\n",
       "<table border=\"1\" class=\"dataframe\">\n",
       "  <thead>\n",
       "    <tr style=\"text-align: right;\">\n",
       "      <th></th>\n",
       "      <th>age</th>\n",
       "      <th>sex</th>\n",
       "      <th>bmi</th>\n",
       "      <th>children</th>\n",
       "      <th>smoker</th>\n",
       "      <th>region</th>\n",
       "      <th>charges</th>\n",
       "    </tr>\n",
       "  </thead>\n",
       "  <tbody>\n",
       "    <tr>\n",
       "      <th>0</th>\n",
       "      <td>19</td>\n",
       "      <td>female</td>\n",
       "      <td>27.900</td>\n",
       "      <td>0</td>\n",
       "      <td>yes</td>\n",
       "      <td>southwest</td>\n",
       "      <td>16884.92400</td>\n",
       "    </tr>\n",
       "    <tr>\n",
       "      <th>1</th>\n",
       "      <td>18</td>\n",
       "      <td>male</td>\n",
       "      <td>33.770</td>\n",
       "      <td>1</td>\n",
       "      <td>no</td>\n",
       "      <td>southeast</td>\n",
       "      <td>1725.55230</td>\n",
       "    </tr>\n",
       "    <tr>\n",
       "      <th>2</th>\n",
       "      <td>28</td>\n",
       "      <td>male</td>\n",
       "      <td>33.000</td>\n",
       "      <td>3</td>\n",
       "      <td>no</td>\n",
       "      <td>southeast</td>\n",
       "      <td>4449.46200</td>\n",
       "    </tr>\n",
       "    <tr>\n",
       "      <th>3</th>\n",
       "      <td>33</td>\n",
       "      <td>male</td>\n",
       "      <td>22.705</td>\n",
       "      <td>0</td>\n",
       "      <td>no</td>\n",
       "      <td>northwest</td>\n",
       "      <td>21984.47061</td>\n",
       "    </tr>\n",
       "    <tr>\n",
       "      <th>4</th>\n",
       "      <td>32</td>\n",
       "      <td>male</td>\n",
       "      <td>28.880</td>\n",
       "      <td>0</td>\n",
       "      <td>no</td>\n",
       "      <td>northwest</td>\n",
       "      <td>3866.85520</td>\n",
       "    </tr>\n",
       "  </tbody>\n",
       "</table>\n",
       "</div>"
      ],
      "text/plain": [
       "   age     sex     bmi  children smoker     region      charges\n",
       "0   19  female  27.900         0    yes  southwest  16884.92400\n",
       "1   18    male  33.770         1     no  southeast   1725.55230\n",
       "2   28    male  33.000         3     no  southeast   4449.46200\n",
       "3   33    male  22.705         0     no  northwest  21984.47061\n",
       "4   32    male  28.880         0     no  northwest   3866.85520"
      ]
     },
     "execution_count": 662,
     "metadata": {},
     "output_type": "execute_result"
    }
   ],
   "source": [
    "df.head()"
   ]
  },
  {
   "cell_type": "code",
   "execution_count": 663,
   "id": "265e0b7d",
   "metadata": {},
   "outputs": [
    {
     "data": {
      "text/plain": [
       "<bound method NDFrame.describe of       age     sex     bmi  children smoker     region      charges\n",
       "0      19  female  27.900         0    yes  southwest  16884.92400\n",
       "1      18    male  33.770         1     no  southeast   1725.55230\n",
       "2      28    male  33.000         3     no  southeast   4449.46200\n",
       "3      33    male  22.705         0     no  northwest  21984.47061\n",
       "4      32    male  28.880         0     no  northwest   3866.85520\n",
       "...   ...     ...     ...       ...    ...        ...          ...\n",
       "1333   50    male  30.970         3     no  northwest  10600.54830\n",
       "1334   18  female  31.920         0     no  northeast   2205.98080\n",
       "1335   18  female  36.850         0     no  southeast   1629.83350\n",
       "1336   21  female  25.800         0     no  southwest   2007.94500\n",
       "1337   61  female  29.070         0    yes  northwest  29141.36030\n",
       "\n",
       "[1338 rows x 7 columns]>"
      ]
     },
     "execution_count": 663,
     "metadata": {},
     "output_type": "execute_result"
    }
   ],
   "source": [
    "df.describe"
   ]
  },
  {
   "cell_type": "code",
   "execution_count": 664,
   "id": "27088dd2",
   "metadata": {},
   "outputs": [
    {
     "data": {
      "text/plain": [
       "np.int64(1)"
      ]
     },
     "execution_count": 664,
     "metadata": {},
     "output_type": "execute_result"
    }
   ],
   "source": [
    "df.duplicated().sum()"
   ]
  },
  {
   "cell_type": "code",
   "execution_count": 665,
   "id": "12e50e85",
   "metadata": {},
   "outputs": [],
   "source": [
    "df.drop_duplicates(inplace=True)"
   ]
  },
  {
   "cell_type": "code",
   "execution_count": 666,
   "id": "49931f0a",
   "metadata": {},
   "outputs": [
    {
     "data": {
      "text/plain": [
       "np.int64(0)"
      ]
     },
     "execution_count": 666,
     "metadata": {},
     "output_type": "execute_result"
    }
   ],
   "source": [
    "df.duplicated().sum()"
   ]
  },
  {
   "cell_type": "code",
   "execution_count": 667,
   "id": "24691995",
   "metadata": {},
   "outputs": [
    {
     "data": {
      "text/plain": [
       "age         0\n",
       "sex         0\n",
       "bmi         0\n",
       "children    0\n",
       "smoker      0\n",
       "region      0\n",
       "charges     0\n",
       "dtype: int64"
      ]
     },
     "execution_count": 667,
     "metadata": {},
     "output_type": "execute_result"
    }
   ],
   "source": [
    "df.isna().sum()"
   ]
  },
  {
   "cell_type": "code",
   "execution_count": 668,
   "id": "7d9f6f72",
   "metadata": {},
   "outputs": [
    {
     "data": {
      "text/plain": [
       "age         0\n",
       "sex         0\n",
       "bmi         0\n",
       "children    0\n",
       "smoker      0\n",
       "region      0\n",
       "charges     0\n",
       "dtype: int64"
      ]
     },
     "execution_count": 668,
     "metadata": {},
     "output_type": "execute_result"
    }
   ],
   "source": [
    "df.isnull().sum()"
   ]
  },
  {
   "cell_type": "code",
   "execution_count": 669,
   "id": "a64bfccd",
   "metadata": {},
   "outputs": [
    {
     "data": {
      "image/png": "[encoded data removed]",
      "text/plain": [
       "<Figure size 640x480 with 1 Axes>"
      ]
     },
     "metadata": {},
     "output_type": "display_data"
    }
   ],
   "source": [
    "sns.histplot(data=df , x=\"age\", binwidth=3)\n",
    "plt.show()\n"
   ]
  },
  {
   "cell_type": "code",
   "execution_count": 670,
   "id": "e848e6ee",
   "metadata": {},
   "outputs": [
    {
     "data": {
      "image/png": "[encoded data removed]",
      "text/plain": [
       "<Figure size 640x480 with 2 Axes>"
      ]
     },
     "metadata": {},
     "output_type": "display_data"
    }
   ],
   "source": [
    "selected_columns_nums = ['age' , 'bmi' , 'children' , 'charges']\n",
    "df_num = df[selected_columns_nums]\n",
    "sns.heatmap(df_num.corr() , annot=True , cmap=\"Blues\" , fmt=\".2f\" )\n",
    "plt.show()\n"
   ]
  },
  {
   "cell_type": "code",
   "execution_count": 671,
   "id": "7b03d787",
   "metadata": {},
   "outputs": [
    {
     "name": "stdout",
     "output_type": "stream",
     "text": [
      "       age     sex     bmi  children smoker     region      charges\n",
      "0     19.0  female  27.900       0.0    yes  southwest  16884.92400\n",
      "1     18.0    male  33.770       1.0     no  southeast   1725.55230\n",
      "2     28.0    male  33.000       3.0     no  southeast   4449.46200\n",
      "3     33.0    male  22.705       0.0     no  northwest  21984.47061\n",
      "4     32.0    male  28.880       0.0     no  northwest   3866.85520\n",
      "...    ...     ...     ...       ...    ...        ...          ...\n",
      "1333  50.0    male  30.970       3.0     no  northwest  10600.54830\n",
      "1334  18.0  female  31.920       0.0     no  northeast   2205.98080\n",
      "1335  18.0  female  36.850       0.0     no  southeast   1629.83350\n",
      "1336  21.0  female  25.800       0.0     no  southwest   2007.94500\n",
      "1337  61.0  female  29.070       0.0    yes  northwest  29141.36030\n",
      "\n",
      "[1337 rows x 7 columns]\n"
     ]
    },
    {
     "name": "stderr",
     "output_type": "stream",
     "text": [
      "C:\\Users\\abirm\\AppData\\Local\\Temp\\ipykernel_21140\\976773499.py:13: SettingWithCopyWarning: \n",
      "A value is trying to be set on a copy of a slice from a DataFrame\n",
      "\n",
      "See the caveats in the documentation: https://pandas.pydata.org/pandas-docs/stable/user_guide/indexing.html#returning-a-view-versus-a-copy\n",
      "  df[selected_columns_string].fillna(mode_category, inplace=True)\n",
      "C:\\Users\\abirm\\AppData\\Local\\Temp\\ipykernel_21140\\976773499.py:13: SettingWithCopyWarning: \n",
      "A value is trying to be set on a copy of a slice from a DataFrame\n",
      "\n",
      "See the caveats in the documentation: https://pandas.pydata.org/pandas-docs/stable/user_guide/indexing.html#returning-a-view-versus-a-copy\n",
      "  df[selected_columns_string].fillna(mode_category, inplace=True)\n",
      "C:\\Users\\abirm\\AppData\\Local\\Temp\\ipykernel_21140\\976773499.py:13: SettingWithCopyWarning: \n",
      "A value is trying to be set on a copy of a slice from a DataFrame\n",
      "\n",
      "See the caveats in the documentation: https://pandas.pydata.org/pandas-docs/stable/user_guide/indexing.html#returning-a-view-versus-a-copy\n",
      "  df[selected_columns_string].fillna(mode_category, inplace=True)\n"
     ]
    }
   ],
   "source": [
    "selected_columns_nums = ['age' , 'bmi' , 'children' , 'charges']\n",
    "\n",
    "imputer_mean = SimpleImputer(strategy='mean')\n",
    "df[selected_columns_nums] = imputer_mean.fit_transform(df[selected_columns_nums])\n",
    "\n",
    "\n",
    "selected_columns_string = ['sex' , 'smoker' , 'region']\n",
    "for i in range(len(selected_columns_string)):\n",
    "    \n",
    "    mode_category = df[selected_columns_string[i]].mode()[0]\n",
    "\n",
    "    # Fill missing values with the calculated mode\n",
    "    df[selected_columns_string].fillna(mode_category, inplace=True)\n",
    "    \n",
    "print(df)\n",
    "\n",
    "    \n",
    "\n"
   ]
  },
  {
   "cell_type": "code",
   "execution_count": 672,
   "id": "d375486d",
   "metadata": {},
   "outputs": [
    {
     "data": {
      "text/plain": [
       "np.int64(0)"
      ]
     },
     "execution_count": 672,
     "metadata": {},
     "output_type": "execute_result"
    }
   ],
   "source": [
    "df.duplicated().sum()"
   ]
  },
  {
   "cell_type": "markdown",
   "id": "cf6e501a",
   "metadata": {},
   "source": []
  },
  {
   "cell_type": "code",
   "execution_count": 673,
   "id": "07717172",
   "metadata": {},
   "outputs": [
    {
     "data": {
      "text/plain": [
       "<Axes: >"
      ]
     },
     "execution_count": 673,
     "metadata": {},
     "output_type": "execute_result"
    },
    {
     "data": {
      "image/png": "[encoded data removed]",
      "text/plain": [
       "<Figure size 640x480 with 1 Axes>"
      ]
     },
     "metadata": {},
     "output_type": "display_data"
    }
   ],
   "source": [
    "df.boxplot('charges')"
   ]
  },
  {
   "cell_type": "code",
   "execution_count": 674,
   "id": "3282c7c8",
   "metadata": {},
   "outputs": [
    {
     "data": {
      "text/plain": [
       "<Axes: ylabel='bmi'>"
      ]
     },
     "execution_count": 674,
     "metadata": {},
     "output_type": "execute_result"
    },
    {
     "data": {
      "image/png": "[encoded data removed]",
      "text/plain": [
       "<Figure size 640x480 with 1 Axes>"
      ]
     },
     "metadata": {},
     "output_type": "display_data"
    }
   ],
   "source": [
    "sns.boxplot(df[\"bmi\"])"
   ]
  },
  {
   "cell_type": "code",
   "execution_count": 675,
   "id": "7b5f1e16",
   "metadata": {},
   "outputs": [
    {
     "name": "stdout",
     "output_type": "stream",
     "text": [
      "(1337, 7)\n"
     ]
    }
   ],
   "source": [
    "print(df.shape)"
   ]
  },
  {
   "cell_type": "code",
   "execution_count": 676,
   "id": "888d07a1",
   "metadata": {},
   "outputs": [],
   "source": [
    "#from scipy.stats import zscore\n",
    "\n",
    "#for i in range(len(selected_columns_nums)):\n",
    "    #df['Z-score'] = zscore(df[selected_columns_nums[i]])\n",
    "   # df = df[df['Z-score'].abs() <= 3]  \n",
    "\n",
    "#df = df.drop(columns=['Z-score'])     \n",
    "#print(df)\n",
    "\n",
    "\n"
   ]
  },
  {
   "cell_type": "code",
   "execution_count": 677,
   "id": "731ad5b5",
   "metadata": {},
   "outputs": [],
   "source": [
    "#outliers = df[df['Z-score'].abs() > 3]\n",
    "#print(outliers)\n"
   ]
  },
  {
   "cell_type": "code",
   "execution_count": 678,
   "id": "a2267379",
   "metadata": {},
   "outputs": [
    {
     "name": "stdout",
     "output_type": "stream",
     "text": [
      "Index(['age', 'sex', 'bmi', 'children', 'smoker', 'region', 'charges'], dtype='object')\n"
     ]
    }
   ],
   "source": [
    "print(df.columns)\n"
   ]
  },
  {
   "cell_type": "code",
   "execution_count": 679,
   "id": "7c792003",
   "metadata": {},
   "outputs": [
    {
     "name": "stderr",
     "output_type": "stream",
     "text": [
      "C:\\Users\\abirm\\AppData\\Local\\Temp\\ipykernel_21140\\2189914048.py:13: SettingWithCopyWarning: \n",
      "A value is trying to be set on a copy of a slice from a DataFrame.\n",
      "Try using .loc[row_indexer,col_indexer] = value instead\n",
      "\n",
      "See the caveats in the documentation: https://pandas.pydata.org/pandas-docs/stable/user_guide/indexing.html#returning-a-view-versus-a-copy\n",
      "  df['charges'] = np.log(df['charges'])\n"
     ]
    },
    {
     "data": {
      "text/plain": [
       "<bound method DataFrame.info of        age     sex     bmi  children smoker     region    charges\n",
       "0     19.0  female  27.900       0.0    yes  southwest   9.734176\n",
       "1     18.0    male  33.770       1.0     no  southeast   7.453302\n",
       "2     28.0    male  33.000       3.0     no  southeast   8.400538\n",
       "3     33.0    male  22.705       0.0     no  northwest   9.998092\n",
       "4     32.0    male  28.880       0.0     no  northwest   8.260197\n",
       "...    ...     ...     ...       ...    ...        ...        ...\n",
       "1333  50.0    male  30.970       3.0     no  northwest   9.268661\n",
       "1334  18.0  female  31.920       0.0     no  northeast   7.698927\n",
       "1335  18.0  female  36.850       0.0     no  southeast   7.396233\n",
       "1336  21.0  female  25.800       0.0     no  southwest   7.604867\n",
       "1337  61.0  female  29.070       0.0    yes  northwest  10.279914\n",
       "\n",
       "[1328 rows x 7 columns]>"
      ]
     },
     "execution_count": 679,
     "metadata": {},
     "output_type": "execute_result"
    }
   ],
   "source": [
    "Q1 = df['bmi'].quantile(0.25)\n",
    "Q3 = df['bmi'].quantile(0.75)\n",
    "IQR = Q3 - Q1\n",
    "\n",
    "# Calculate bounds\n",
    "lower_bound = Q1 - 1.5 * IQR\n",
    "upper_bound = Q3 + 1.5 * IQR\n",
    "\n",
    "# Detect outliers\n",
    "df = df[(df['bmi'] >= lower_bound) & (df['bmi'] <= upper_bound)]\n",
    "\n",
    "\n",
    "df['charges'] = np.log(df['charges'])\n",
    "\n",
    "df.info"
   ]
  },
  {
   "cell_type": "code",
   "execution_count": 680,
   "id": "3e2e1bf3",
   "metadata": {},
   "outputs": [
    {
     "name": "stdout",
     "output_type": "stream",
     "text": [
      "(1328, 7)\n"
     ]
    }
   ],
   "source": [
    "print(df.shape)\n",
    "df_cleaned = df"
   ]
  },
  {
   "cell_type": "code",
   "execution_count": 681,
   "id": "0181af85",
   "metadata": {},
   "outputs": [
    {
     "data": {
      "text/plain": [
       "<Axes: >"
      ]
     },
     "execution_count": 681,
     "metadata": {},
     "output_type": "execute_result"
    },
    {
     "data": {
      "image/png": "[encoded data removed]",
      "text/plain": [
       "<Figure size 640x480 with 1 Axes>"
      ]
     },
     "metadata": {},
     "output_type": "display_data"
    }
   ],
   "source": [
    "df_cleaned.boxplot('bmi')"
   ]
  },
  {
   "cell_type": "code",
   "execution_count": null,
   "id": "7ea9e22a",
   "metadata": {},
   "outputs": [],
   "source": []
  },
  {
   "cell_type": "code",
   "execution_count": 682,
   "id": "b610051c",
   "metadata": {},
   "outputs": [
    {
     "name": "stdout",
     "output_type": "stream",
     "text": [
      "['sex', 'smoker', 'region']\n",
      "      sex_female  sex_male  smoker_no  smoker_yes  region_northeast  \\\n",
      "0            1.0       0.0        0.0         1.0               0.0   \n",
      "1            0.0       1.0        1.0         0.0               0.0   \n",
      "2            0.0       1.0        1.0         0.0               0.0   \n",
      "3            0.0       1.0        1.0         0.0               0.0   \n",
      "4            0.0       1.0        1.0         0.0               0.0   \n",
      "...          ...       ...        ...         ...               ...   \n",
      "1333         0.0       1.0        1.0         0.0               0.0   \n",
      "1334         1.0       0.0        1.0         0.0               1.0   \n",
      "1335         1.0       0.0        1.0         0.0               0.0   \n",
      "1336         1.0       0.0        1.0         0.0               0.0   \n",
      "1337         1.0       0.0        0.0         1.0               0.0   \n",
      "\n",
      "      region_northwest  region_southeast  region_southwest  \n",
      "0                  0.0               0.0               1.0  \n",
      "1                  0.0               1.0               0.0  \n",
      "2                  0.0               1.0               0.0  \n",
      "3                  1.0               0.0               0.0  \n",
      "4                  1.0               0.0               0.0  \n",
      "...                ...               ...               ...  \n",
      "1333               1.0               0.0               0.0  \n",
      "1334               0.0               0.0               0.0  \n",
      "1335               0.0               1.0               0.0  \n",
      "1336               0.0               0.0               1.0  \n",
      "1337               1.0               0.0               0.0  \n",
      "\n",
      "[1328 rows x 8 columns]\n",
      "       age     sex     bmi  children smoker     region    charges  sex_female  \\\n",
      "0     19.0  female  27.900       0.0    yes  southwest   9.734176         1.0   \n",
      "1     18.0    male  33.770       1.0     no  southeast   7.453302         0.0   \n",
      "2     28.0    male  33.000       3.0     no  southeast   8.400538         0.0   \n",
      "3     33.0    male  22.705       0.0     no  northwest   9.998092         0.0   \n",
      "4     32.0    male  28.880       0.0     no  northwest   8.260197         0.0   \n",
      "...    ...     ...     ...       ...    ...        ...        ...         ...   \n",
      "1333  50.0    male  30.970       3.0     no  northwest   9.268661         0.0   \n",
      "1334  18.0  female  31.920       0.0     no  northeast   7.698927         1.0   \n",
      "1335  18.0  female  36.850       0.0     no  southeast   7.396233         1.0   \n",
      "1336  21.0  female  25.800       0.0     no  southwest   7.604867         1.0   \n",
      "1337  61.0  female  29.070       0.0    yes  northwest  10.279914         1.0   \n",
      "\n",
      "      sex_male  smoker_no  smoker_yes  region_northeast  region_northwest  \\\n",
      "0          0.0        0.0         1.0               0.0               0.0   \n",
      "1          1.0        1.0         0.0               0.0               0.0   \n",
      "2          1.0        1.0         0.0               0.0               0.0   \n",
      "3          1.0        1.0         0.0               0.0               1.0   \n",
      "4          1.0        1.0         0.0               0.0               1.0   \n",
      "...        ...        ...         ...               ...               ...   \n",
      "1333       1.0        1.0         0.0               0.0               1.0   \n",
      "1334       0.0        1.0         0.0               1.0               0.0   \n",
      "1335       0.0        1.0         0.0               0.0               0.0   \n",
      "1336       0.0        1.0         0.0               0.0               0.0   \n",
      "1337       0.0        0.0         1.0               0.0               1.0   \n",
      "\n",
      "      region_southeast  region_southwest  \n",
      "0                  0.0               1.0  \n",
      "1                  1.0               0.0  \n",
      "2                  1.0               0.0  \n",
      "3                  0.0               0.0  \n",
      "4                  0.0               0.0  \n",
      "...                ...               ...  \n",
      "1333               0.0               0.0  \n",
      "1334               0.0               0.0  \n",
      "1335               1.0               0.0  \n",
      "1336               0.0               1.0  \n",
      "1337               0.0               0.0  \n",
      "\n",
      "[1328 rows x 15 columns]\n"
     ]
    },
    {
     "name": "stderr",
     "output_type": "stream",
     "text": [
      "C:\\Users\\abirm\\AppData\\Local\\Temp\\ipykernel_21140\\3496052825.py:8: SettingWithCopyWarning: \n",
      "A value is trying to be set on a copy of a slice from a DataFrame.\n",
      "Try using .loc[row_indexer,col_indexer] = value instead\n",
      "\n",
      "See the caveats in the documentation: https://pandas.pydata.org/pandas-docs/stable/user_guide/indexing.html#returning-a-view-versus-a-copy\n",
      "  df_cleaned[encoded_cols] = encoder.transform(df_cleaned[catg_cols])\n",
      "C:\\Users\\abirm\\AppData\\Local\\Temp\\ipykernel_21140\\3496052825.py:8: SettingWithCopyWarning: \n",
      "A value is trying to be set on a copy of a slice from a DataFrame.\n",
      "Try using .loc[row_indexer,col_indexer] = value instead\n",
      "\n",
      "See the caveats in the documentation: https://pandas.pydata.org/pandas-docs/stable/user_guide/indexing.html#returning-a-view-versus-a-copy\n",
      "  df_cleaned[encoded_cols] = encoder.transform(df_cleaned[catg_cols])\n",
      "C:\\Users\\abirm\\AppData\\Local\\Temp\\ipykernel_21140\\3496052825.py:8: SettingWithCopyWarning: \n",
      "A value is trying to be set on a copy of a slice from a DataFrame.\n",
      "Try using .loc[row_indexer,col_indexer] = value instead\n",
      "\n",
      "See the caveats in the documentation: https://pandas.pydata.org/pandas-docs/stable/user_guide/indexing.html#returning-a-view-versus-a-copy\n",
      "  df_cleaned[encoded_cols] = encoder.transform(df_cleaned[catg_cols])\n",
      "C:\\Users\\abirm\\AppData\\Local\\Temp\\ipykernel_21140\\3496052825.py:8: SettingWithCopyWarning: \n",
      "A value is trying to be set on a copy of a slice from a DataFrame.\n",
      "Try using .loc[row_indexer,col_indexer] = value instead\n",
      "\n",
      "See the caveats in the documentation: https://pandas.pydata.org/pandas-docs/stable/user_guide/indexing.html#returning-a-view-versus-a-copy\n",
      "  df_cleaned[encoded_cols] = encoder.transform(df_cleaned[catg_cols])\n",
      "C:\\Users\\abirm\\AppData\\Local\\Temp\\ipykernel_21140\\3496052825.py:8: SettingWithCopyWarning: \n",
      "A value is trying to be set on a copy of a slice from a DataFrame.\n",
      "Try using .loc[row_indexer,col_indexer] = value instead\n",
      "\n",
      "See the caveats in the documentation: https://pandas.pydata.org/pandas-docs/stable/user_guide/indexing.html#returning-a-view-versus-a-copy\n",
      "  df_cleaned[encoded_cols] = encoder.transform(df_cleaned[catg_cols])\n",
      "C:\\Users\\abirm\\AppData\\Local\\Temp\\ipykernel_21140\\3496052825.py:8: SettingWithCopyWarning: \n",
      "A value is trying to be set on a copy of a slice from a DataFrame.\n",
      "Try using .loc[row_indexer,col_indexer] = value instead\n",
      "\n",
      "See the caveats in the documentation: https://pandas.pydata.org/pandas-docs/stable/user_guide/indexing.html#returning-a-view-versus-a-copy\n",
      "  df_cleaned[encoded_cols] = encoder.transform(df_cleaned[catg_cols])\n",
      "C:\\Users\\abirm\\AppData\\Local\\Temp\\ipykernel_21140\\3496052825.py:8: SettingWithCopyWarning: \n",
      "A value is trying to be set on a copy of a slice from a DataFrame.\n",
      "Try using .loc[row_indexer,col_indexer] = value instead\n",
      "\n",
      "See the caveats in the documentation: https://pandas.pydata.org/pandas-docs/stable/user_guide/indexing.html#returning-a-view-versus-a-copy\n",
      "  df_cleaned[encoded_cols] = encoder.transform(df_cleaned[catg_cols])\n",
      "C:\\Users\\abirm\\AppData\\Local\\Temp\\ipykernel_21140\\3496052825.py:8: SettingWithCopyWarning: \n",
      "A value is trying to be set on a copy of a slice from a DataFrame.\n",
      "Try using .loc[row_indexer,col_indexer] = value instead\n",
      "\n",
      "See the caveats in the documentation: https://pandas.pydata.org/pandas-docs/stable/user_guide/indexing.html#returning-a-view-versus-a-copy\n",
      "  df_cleaned[encoded_cols] = encoder.transform(df_cleaned[catg_cols])\n"
     ]
    }
   ],
   "source": [
    "catg_cols = df_cleaned.select_dtypes(include='object').columns.to_list()\n",
    "print(catg_cols)\n",
    "from sklearn.preprocessing import OneHotEncoder\n",
    "encoder = OneHotEncoder(sparse_output=False , handle_unknown='ignore' )\n",
    "encoder.fit(df_cleaned[catg_cols])\n",
    "\n",
    "encoded_cols = list(encoder.get_feature_names_out(catg_cols))\n",
    "df_cleaned[encoded_cols] = encoder.transform(df_cleaned[catg_cols])\n",
    "print(df_cleaned[encoded_cols])\n",
    "print(df_cleaned)"
   ]
  },
  {
   "cell_type": "code",
   "execution_count": 683,
   "id": "cba72438",
   "metadata": {},
   "outputs": [
    {
     "data": {
      "text/html": [
       "<div>\n",
       "<style scoped>\n",
       "    .dataframe tbody tr th:only-of-type {\n",
       "        vertical-align: middle;\n",
       "    }\n",
       "\n",
       "    .dataframe tbody tr th {\n",
       "        vertical-align: top;\n",
       "    }\n",
       "\n",
       "    .dataframe thead th {\n",
       "        text-align: right;\n",
       "    }\n",
       "</style>\n",
       "<table border=\"1\" class=\"dataframe\">\n",
       "  <thead>\n",
       "    <tr style=\"text-align: right;\">\n",
       "      <th></th>\n",
       "      <th>age</th>\n",
       "      <th>bmi</th>\n",
       "      <th>children</th>\n",
       "      <th>sex_female</th>\n",
       "      <th>sex_male</th>\n",
       "      <th>smoker_no</th>\n",
       "      <th>smoker_yes</th>\n",
       "      <th>region_northeast</th>\n",
       "      <th>region_northwest</th>\n",
       "      <th>region_southeast</th>\n",
       "      <th>region_southwest</th>\n",
       "    </tr>\n",
       "  </thead>\n",
       "  <tbody>\n",
       "    <tr>\n",
       "      <th>0</th>\n",
       "      <td>19.0</td>\n",
       "      <td>27.900</td>\n",
       "      <td>0.0</td>\n",
       "      <td>1.0</td>\n",
       "      <td>0.0</td>\n",
       "      <td>0.0</td>\n",
       "      <td>1.0</td>\n",
       "      <td>0.0</td>\n",
       "      <td>0.0</td>\n",
       "      <td>0.0</td>\n",
       "      <td>1.0</td>\n",
       "    </tr>\n",
       "    <tr>\n",
       "      <th>1</th>\n",
       "      <td>18.0</td>\n",
       "      <td>33.770</td>\n",
       "      <td>1.0</td>\n",
       "      <td>0.0</td>\n",
       "      <td>1.0</td>\n",
       "      <td>1.0</td>\n",
       "      <td>0.0</td>\n",
       "      <td>0.0</td>\n",
       "      <td>0.0</td>\n",
       "      <td>1.0</td>\n",
       "      <td>0.0</td>\n",
       "    </tr>\n",
       "    <tr>\n",
       "      <th>2</th>\n",
       "      <td>28.0</td>\n",
       "      <td>33.000</td>\n",
       "      <td>3.0</td>\n",
       "      <td>0.0</td>\n",
       "      <td>1.0</td>\n",
       "      <td>1.0</td>\n",
       "      <td>0.0</td>\n",
       "      <td>0.0</td>\n",
       "      <td>0.0</td>\n",
       "      <td>1.0</td>\n",
       "      <td>0.0</td>\n",
       "    </tr>\n",
       "    <tr>\n",
       "      <th>3</th>\n",
       "      <td>33.0</td>\n",
       "      <td>22.705</td>\n",
       "      <td>0.0</td>\n",
       "      <td>0.0</td>\n",
       "      <td>1.0</td>\n",
       "      <td>1.0</td>\n",
       "      <td>0.0</td>\n",
       "      <td>0.0</td>\n",
       "      <td>1.0</td>\n",
       "      <td>0.0</td>\n",
       "      <td>0.0</td>\n",
       "    </tr>\n",
       "    <tr>\n",
       "      <th>4</th>\n",
       "      <td>32.0</td>\n",
       "      <td>28.880</td>\n",
       "      <td>0.0</td>\n",
       "      <td>0.0</td>\n",
       "      <td>1.0</td>\n",
       "      <td>1.0</td>\n",
       "      <td>0.0</td>\n",
       "      <td>0.0</td>\n",
       "      <td>1.0</td>\n",
       "      <td>0.0</td>\n",
       "      <td>0.0</td>\n",
       "    </tr>\n",
       "  </tbody>\n",
       "</table>\n",
       "</div>"
      ],
      "text/plain": [
       "    age     bmi  children  sex_female  sex_male  smoker_no  smoker_yes  \\\n",
       "0  19.0  27.900       0.0         1.0       0.0        0.0         1.0   \n",
       "1  18.0  33.770       1.0         0.0       1.0        1.0         0.0   \n",
       "2  28.0  33.000       3.0         0.0       1.0        1.0         0.0   \n",
       "3  33.0  22.705       0.0         0.0       1.0        1.0         0.0   \n",
       "4  32.0  28.880       0.0         0.0       1.0        1.0         0.0   \n",
       "\n",
       "   region_northeast  region_northwest  region_southeast  region_southwest  \n",
       "0               0.0               0.0               0.0               1.0  \n",
       "1               0.0               0.0               1.0               0.0  \n",
       "2               0.0               0.0               1.0               0.0  \n",
       "3               0.0               1.0               0.0               0.0  \n",
       "4               0.0               1.0               0.0               0.0  "
      ]
     },
     "execution_count": 683,
     "metadata": {},
     "output_type": "execute_result"
    }
   ],
   "source": [
    "from sklearn.model_selection import train_test_split\n",
    "X = df_cleaned.drop(columns= ['charges' , 'smoker' , 'sex' , 'region'])\n",
    "Y = df_cleaned['charges']\n",
    "\n",
    "#Y.head()\n",
    "# X.shape\n",
    "# Y.shape\n",
    "X_train , X_test , Y_train , Y_test = train_test_split(X ,Y , random_state=11 , test_size=0.2)\n",
    "\n",
    "\n",
    "# X_train.shape\n",
    "# X_test.shape\n",
    "# # Y_train.shape\n",
    "# Y_test.shape\n",
    "# X_train.describe().round(3)\n",
    "\n",
    "#rint(df_cleaned)\n",
    "\n",
    "X.head()\n"
   ]
  },
  {
   "cell_type": "code",
   "execution_count": 684,
   "id": "3db31937",
   "metadata": {},
   "outputs": [
    {
     "data": {
      "text/html": [
       "<div>\n",
       "<style scoped>\n",
       "    .dataframe tbody tr th:only-of-type {\n",
       "        vertical-align: middle;\n",
       "    }\n",
       "\n",
       "    .dataframe tbody tr th {\n",
       "        vertical-align: top;\n",
       "    }\n",
       "\n",
       "    .dataframe thead th {\n",
       "        text-align: right;\n",
       "    }\n",
       "</style>\n",
       "<table border=\"1\" class=\"dataframe\">\n",
       "  <thead>\n",
       "    <tr style=\"text-align: right;\">\n",
       "      <th></th>\n",
       "      <th>age</th>\n",
       "      <th>bmi</th>\n",
       "      <th>children</th>\n",
       "      <th>charges</th>\n",
       "    </tr>\n",
       "  </thead>\n",
       "  <tbody>\n",
       "    <tr>\n",
       "      <th>count</th>\n",
       "      <td>1328.000</td>\n",
       "      <td>1328.000</td>\n",
       "      <td>1328.000</td>\n",
       "      <td>1328.000</td>\n",
       "    </tr>\n",
       "    <tr>\n",
       "      <th>mean</th>\n",
       "      <td>-0.000</td>\n",
       "      <td>-0.000</td>\n",
       "      <td>0.000</td>\n",
       "      <td>0.000</td>\n",
       "    </tr>\n",
       "    <tr>\n",
       "      <th>std</th>\n",
       "      <td>1.000</td>\n",
       "      <td>1.000</td>\n",
       "      <td>1.000</td>\n",
       "      <td>1.000</td>\n",
       "    </tr>\n",
       "    <tr>\n",
       "      <th>min</th>\n",
       "      <td>-1.512</td>\n",
       "      <td>-2.462</td>\n",
       "      <td>-0.909</td>\n",
       "      <td>-2.268</td>\n",
       "    </tr>\n",
       "    <tr>\n",
       "      <th>25%</th>\n",
       "      <td>-0.871</td>\n",
       "      <td>-0.729</td>\n",
       "      <td>-0.909</td>\n",
       "      <td>-0.692</td>\n",
       "    </tr>\n",
       "    <tr>\n",
       "      <th>50%</th>\n",
       "      <td>-0.016</td>\n",
       "      <td>-0.040</td>\n",
       "      <td>-0.080</td>\n",
       "      <td>0.051</td>\n",
       "    </tr>\n",
       "    <tr>\n",
       "      <th>75%</th>\n",
       "      <td>0.839</td>\n",
       "      <td>0.667</td>\n",
       "      <td>0.748</td>\n",
       "      <td>0.676</td>\n",
       "    </tr>\n",
       "    <tr>\n",
       "      <th>max</th>\n",
       "      <td>1.765</td>\n",
       "      <td>2.739</td>\n",
       "      <td>3.232</td>\n",
       "      <td>2.126</td>\n",
       "    </tr>\n",
       "  </tbody>\n",
       "</table>\n",
       "</div>"
      ],
      "text/plain": [
       "            age       bmi  children   charges\n",
       "count  1328.000  1328.000  1328.000  1328.000\n",
       "mean     -0.000    -0.000     0.000     0.000\n",
       "std       1.000     1.000     1.000     1.000\n",
       "min      -1.512    -2.462    -0.909    -2.268\n",
       "25%      -0.871    -0.729    -0.909    -0.692\n",
       "50%      -0.016    -0.040    -0.080     0.051\n",
       "75%       0.839     0.667     0.748     0.676\n",
       "max       1.765     2.739     3.232     2.126"
      ]
     },
     "execution_count": 684,
     "metadata": {},
     "output_type": "execute_result"
    }
   ],
   "source": [
    "\n",
    "\n",
    "X1 = df_cleaned[selected_columns_nums]\n",
    "X2 = df_cleaned[selected_columns_nums]\n",
    "from sklearn.preprocessing import StandardScaler\n",
    "scaleStandard = StandardScaler()\n",
    "X1 = scaleStandard.fit_transform(X1)\n",
    "X1 = pd.DataFrame(X1 , columns=selected_columns_nums)\n",
    "X1.head()\n",
    "X1.describe().round(3)\n",
    "\n"
   ]
  },
  {
   "cell_type": "code",
   "execution_count": 685,
   "id": "e1d791ad",
   "metadata": {},
   "outputs": [
    {
     "data": {
      "text/html": [
       "<div>\n",
       "<style scoped>\n",
       "    .dataframe tbody tr th:only-of-type {\n",
       "        vertical-align: middle;\n",
       "    }\n",
       "\n",
       "    .dataframe tbody tr th {\n",
       "        vertical-align: top;\n",
       "    }\n",
       "\n",
       "    .dataframe thead th {\n",
       "        text-align: right;\n",
       "    }\n",
       "</style>\n",
       "<table border=\"1\" class=\"dataframe\">\n",
       "  <thead>\n",
       "    <tr style=\"text-align: right;\">\n",
       "      <th></th>\n",
       "      <th>age</th>\n",
       "      <th>bmi</th>\n",
       "      <th>children</th>\n",
       "      <th>charges</th>\n",
       "    </tr>\n",
       "  </thead>\n",
       "  <tbody>\n",
       "    <tr>\n",
       "      <th>count</th>\n",
       "      <td>1328.000</td>\n",
       "      <td>1328.000</td>\n",
       "      <td>1328.000</td>\n",
       "      <td>1328.000</td>\n",
       "    </tr>\n",
       "    <tr>\n",
       "      <th>mean</th>\n",
       "      <td>0.461</td>\n",
       "      <td>0.473</td>\n",
       "      <td>0.219</td>\n",
       "      <td>0.516</td>\n",
       "    </tr>\n",
       "    <tr>\n",
       "      <th>std</th>\n",
       "      <td>0.305</td>\n",
       "      <td>0.192</td>\n",
       "      <td>0.242</td>\n",
       "      <td>0.228</td>\n",
       "    </tr>\n",
       "    <tr>\n",
       "      <th>min</th>\n",
       "      <td>0.000</td>\n",
       "      <td>0.000</td>\n",
       "      <td>0.000</td>\n",
       "      <td>0.000</td>\n",
       "    </tr>\n",
       "    <tr>\n",
       "      <th>25%</th>\n",
       "      <td>0.196</td>\n",
       "      <td>0.333</td>\n",
       "      <td>0.000</td>\n",
       "      <td>0.359</td>\n",
       "    </tr>\n",
       "    <tr>\n",
       "      <th>50%</th>\n",
       "      <td>0.457</td>\n",
       "      <td>0.466</td>\n",
       "      <td>0.200</td>\n",
       "      <td>0.528</td>\n",
       "    </tr>\n",
       "    <tr>\n",
       "      <th>75%</th>\n",
       "      <td>0.717</td>\n",
       "      <td>0.602</td>\n",
       "      <td>0.400</td>\n",
       "      <td>0.670</td>\n",
       "    </tr>\n",
       "    <tr>\n",
       "      <th>max</th>\n",
       "      <td>1.000</td>\n",
       "      <td>1.000</td>\n",
       "      <td>1.000</td>\n",
       "      <td>1.000</td>\n",
       "    </tr>\n",
       "  </tbody>\n",
       "</table>\n",
       "</div>"
      ],
      "text/plain": [
       "            age       bmi  children   charges\n",
       "count  1328.000  1328.000  1328.000  1328.000\n",
       "mean      0.461     0.473     0.219     0.516\n",
       "std       0.305     0.192     0.242     0.228\n",
       "min       0.000     0.000     0.000     0.000\n",
       "25%       0.196     0.333     0.000     0.359\n",
       "50%       0.457     0.466     0.200     0.528\n",
       "75%       0.717     0.602     0.400     0.670\n",
       "max       1.000     1.000     1.000     1.000"
      ]
     },
     "execution_count": 685,
     "metadata": {},
     "output_type": "execute_result"
    }
   ],
   "source": [
    "from sklearn.preprocessing import MinMaxScaler\n",
    "scaleminmax = MinMaxScaler(feature_range=(0,1))\n",
    "X2 = scaleminmax.fit_transform(X2)\n",
    "X2 = pd.DataFrame(X2 , columns=selected_columns_nums)\n",
    "X2.describe().round(3)\n",
    "\n"
   ]
  },
  {
   "cell_type": "code",
   "execution_count": 686,
   "id": "e5ab47e3",
   "metadata": {},
   "outputs": [
    {
     "data": {
      "text/html": [
       "<div>\n",
       "<style scoped>\n",
       "    .dataframe tbody tr th:only-of-type {\n",
       "        vertical-align: middle;\n",
       "    }\n",
       "\n",
       "    .dataframe tbody tr th {\n",
       "        vertical-align: top;\n",
       "    }\n",
       "\n",
       "    .dataframe thead th {\n",
       "        text-align: right;\n",
       "    }\n",
       "</style>\n",
       "<table border=\"1\" class=\"dataframe\">\n",
       "  <thead>\n",
       "    <tr style=\"text-align: right;\">\n",
       "      <th></th>\n",
       "      <th>age</th>\n",
       "      <th>sex</th>\n",
       "      <th>bmi</th>\n",
       "      <th>children</th>\n",
       "      <th>smoker</th>\n",
       "      <th>region</th>\n",
       "      <th>charges</th>\n",
       "      <th>sex_female</th>\n",
       "      <th>sex_male</th>\n",
       "      <th>smoker_no</th>\n",
       "      <th>smoker_yes</th>\n",
       "      <th>region_northeast</th>\n",
       "      <th>region_northwest</th>\n",
       "      <th>region_southeast</th>\n",
       "      <th>region_southwest</th>\n",
       "    </tr>\n",
       "  </thead>\n",
       "  <tbody>\n",
       "    <tr>\n",
       "      <th>0</th>\n",
       "      <td>19.0</td>\n",
       "      <td>female</td>\n",
       "      <td>27.900</td>\n",
       "      <td>0.0</td>\n",
       "      <td>yes</td>\n",
       "      <td>southwest</td>\n",
       "      <td>9.734176</td>\n",
       "      <td>1.0</td>\n",
       "      <td>0.0</td>\n",
       "      <td>0.0</td>\n",
       "      <td>1.0</td>\n",
       "      <td>0.0</td>\n",
       "      <td>0.0</td>\n",
       "      <td>0.0</td>\n",
       "      <td>1.0</td>\n",
       "    </tr>\n",
       "    <tr>\n",
       "      <th>1</th>\n",
       "      <td>18.0</td>\n",
       "      <td>male</td>\n",
       "      <td>33.770</td>\n",
       "      <td>1.0</td>\n",
       "      <td>no</td>\n",
       "      <td>southeast</td>\n",
       "      <td>7.453302</td>\n",
       "      <td>0.0</td>\n",
       "      <td>1.0</td>\n",
       "      <td>1.0</td>\n",
       "      <td>0.0</td>\n",
       "      <td>0.0</td>\n",
       "      <td>0.0</td>\n",
       "      <td>1.0</td>\n",
       "      <td>0.0</td>\n",
       "    </tr>\n",
       "    <tr>\n",
       "      <th>2</th>\n",
       "      <td>28.0</td>\n",
       "      <td>male</td>\n",
       "      <td>33.000</td>\n",
       "      <td>3.0</td>\n",
       "      <td>no</td>\n",
       "      <td>southeast</td>\n",
       "      <td>8.400538</td>\n",
       "      <td>0.0</td>\n",
       "      <td>1.0</td>\n",
       "      <td>1.0</td>\n",
       "      <td>0.0</td>\n",
       "      <td>0.0</td>\n",
       "      <td>0.0</td>\n",
       "      <td>1.0</td>\n",
       "      <td>0.0</td>\n",
       "    </tr>\n",
       "    <tr>\n",
       "      <th>3</th>\n",
       "      <td>33.0</td>\n",
       "      <td>male</td>\n",
       "      <td>22.705</td>\n",
       "      <td>0.0</td>\n",
       "      <td>no</td>\n",
       "      <td>northwest</td>\n",
       "      <td>9.998092</td>\n",
       "      <td>0.0</td>\n",
       "      <td>1.0</td>\n",
       "      <td>1.0</td>\n",
       "      <td>0.0</td>\n",
       "      <td>0.0</td>\n",
       "      <td>1.0</td>\n",
       "      <td>0.0</td>\n",
       "      <td>0.0</td>\n",
       "    </tr>\n",
       "    <tr>\n",
       "      <th>4</th>\n",
       "      <td>32.0</td>\n",
       "      <td>male</td>\n",
       "      <td>28.880</td>\n",
       "      <td>0.0</td>\n",
       "      <td>no</td>\n",
       "      <td>northwest</td>\n",
       "      <td>8.260197</td>\n",
       "      <td>0.0</td>\n",
       "      <td>1.0</td>\n",
       "      <td>1.0</td>\n",
       "      <td>0.0</td>\n",
       "      <td>0.0</td>\n",
       "      <td>1.0</td>\n",
       "      <td>0.0</td>\n",
       "      <td>0.0</td>\n",
       "    </tr>\n",
       "    <tr>\n",
       "      <th>...</th>\n",
       "      <td>...</td>\n",
       "      <td>...</td>\n",
       "      <td>...</td>\n",
       "      <td>...</td>\n",
       "      <td>...</td>\n",
       "      <td>...</td>\n",
       "      <td>...</td>\n",
       "      <td>...</td>\n",
       "      <td>...</td>\n",
       "      <td>...</td>\n",
       "      <td>...</td>\n",
       "      <td>...</td>\n",
       "      <td>...</td>\n",
       "      <td>...</td>\n",
       "      <td>...</td>\n",
       "    </tr>\n",
       "    <tr>\n",
       "      <th>1333</th>\n",
       "      <td>50.0</td>\n",
       "      <td>male</td>\n",
       "      <td>30.970</td>\n",
       "      <td>3.0</td>\n",
       "      <td>no</td>\n",
       "      <td>northwest</td>\n",
       "      <td>9.268661</td>\n",
       "      <td>0.0</td>\n",
       "      <td>1.0</td>\n",
       "      <td>1.0</td>\n",
       "      <td>0.0</td>\n",
       "      <td>0.0</td>\n",
       "      <td>1.0</td>\n",
       "      <td>0.0</td>\n",
       "      <td>0.0</td>\n",
       "    </tr>\n",
       "    <tr>\n",
       "      <th>1334</th>\n",
       "      <td>18.0</td>\n",
       "      <td>female</td>\n",
       "      <td>31.920</td>\n",
       "      <td>0.0</td>\n",
       "      <td>no</td>\n",
       "      <td>northeast</td>\n",
       "      <td>7.698927</td>\n",
       "      <td>1.0</td>\n",
       "      <td>0.0</td>\n",
       "      <td>1.0</td>\n",
       "      <td>0.0</td>\n",
       "      <td>1.0</td>\n",
       "      <td>0.0</td>\n",
       "      <td>0.0</td>\n",
       "      <td>0.0</td>\n",
       "    </tr>\n",
       "    <tr>\n",
       "      <th>1335</th>\n",
       "      <td>18.0</td>\n",
       "      <td>female</td>\n",
       "      <td>36.850</td>\n",
       "      <td>0.0</td>\n",
       "      <td>no</td>\n",
       "      <td>southeast</td>\n",
       "      <td>7.396233</td>\n",
       "      <td>1.0</td>\n",
       "      <td>0.0</td>\n",
       "      <td>1.0</td>\n",
       "      <td>0.0</td>\n",
       "      <td>0.0</td>\n",
       "      <td>0.0</td>\n",
       "      <td>1.0</td>\n",
       "      <td>0.0</td>\n",
       "    </tr>\n",
       "    <tr>\n",
       "      <th>1336</th>\n",
       "      <td>21.0</td>\n",
       "      <td>female</td>\n",
       "      <td>25.800</td>\n",
       "      <td>0.0</td>\n",
       "      <td>no</td>\n",
       "      <td>southwest</td>\n",
       "      <td>7.604867</td>\n",
       "      <td>1.0</td>\n",
       "      <td>0.0</td>\n",
       "      <td>1.0</td>\n",
       "      <td>0.0</td>\n",
       "      <td>0.0</td>\n",
       "      <td>0.0</td>\n",
       "      <td>0.0</td>\n",
       "      <td>1.0</td>\n",
       "    </tr>\n",
       "    <tr>\n",
       "      <th>1337</th>\n",
       "      <td>61.0</td>\n",
       "      <td>female</td>\n",
       "      <td>29.070</td>\n",
       "      <td>0.0</td>\n",
       "      <td>yes</td>\n",
       "      <td>northwest</td>\n",
       "      <td>10.279914</td>\n",
       "      <td>1.0</td>\n",
       "      <td>0.0</td>\n",
       "      <td>0.0</td>\n",
       "      <td>1.0</td>\n",
       "      <td>0.0</td>\n",
       "      <td>1.0</td>\n",
       "      <td>0.0</td>\n",
       "      <td>0.0</td>\n",
       "    </tr>\n",
       "  </tbody>\n",
       "</table>\n",
       "<p>1328 rows × 15 columns</p>\n",
       "</div>"
      ],
      "text/plain": [
       "       age     sex     bmi  children smoker     region    charges  sex_female  \\\n",
       "0     19.0  female  27.900       0.0    yes  southwest   9.734176         1.0   \n",
       "1     18.0    male  33.770       1.0     no  southeast   7.453302         0.0   \n",
       "2     28.0    male  33.000       3.0     no  southeast   8.400538         0.0   \n",
       "3     33.0    male  22.705       0.0     no  northwest   9.998092         0.0   \n",
       "4     32.0    male  28.880       0.0     no  northwest   8.260197         0.0   \n",
       "...    ...     ...     ...       ...    ...        ...        ...         ...   \n",
       "1333  50.0    male  30.970       3.0     no  northwest   9.268661         0.0   \n",
       "1334  18.0  female  31.920       0.0     no  northeast   7.698927         1.0   \n",
       "1335  18.0  female  36.850       0.0     no  southeast   7.396233         1.0   \n",
       "1336  21.0  female  25.800       0.0     no  southwest   7.604867         1.0   \n",
       "1337  61.0  female  29.070       0.0    yes  northwest  10.279914         1.0   \n",
       "\n",
       "      sex_male  smoker_no  smoker_yes  region_northeast  region_northwest  \\\n",
       "0          0.0        0.0         1.0               0.0               0.0   \n",
       "1          1.0        1.0         0.0               0.0               0.0   \n",
       "2          1.0        1.0         0.0               0.0               0.0   \n",
       "3          1.0        1.0         0.0               0.0               1.0   \n",
       "4          1.0        1.0         0.0               0.0               1.0   \n",
       "...        ...        ...         ...               ...               ...   \n",
       "1333       1.0        1.0         0.0               0.0               1.0   \n",
       "1334       0.0        1.0         0.0               1.0               0.0   \n",
       "1335       0.0        1.0         0.0               0.0               0.0   \n",
       "1336       0.0        1.0         0.0               0.0               0.0   \n",
       "1337       0.0        0.0         1.0               0.0               1.0   \n",
       "\n",
       "      region_southeast  region_southwest  \n",
       "0                  0.0               1.0  \n",
       "1                  1.0               0.0  \n",
       "2                  1.0               0.0  \n",
       "3                  0.0               0.0  \n",
       "4                  0.0               0.0  \n",
       "...                ...               ...  \n",
       "1333               0.0               0.0  \n",
       "1334               0.0               0.0  \n",
       "1335               1.0               0.0  \n",
       "1336               0.0               1.0  \n",
       "1337               0.0               0.0  \n",
       "\n",
       "[1328 rows x 15 columns]"
      ]
     },
     "execution_count": 686,
     "metadata": {},
     "output_type": "execute_result"
    }
   ],
   "source": [
    "df_cleaned"
   ]
  },
  {
   "cell_type": "code",
   "execution_count": 687,
   "id": "3beb9a0e",
   "metadata": {},
   "outputs": [
    {
     "data": {
      "text/plain": [
       "0.27305141444118214"
      ]
     },
     "execution_count": 687,
     "metadata": {},
     "output_type": "execute_result"
    }
   ],
   "source": [
    "from sklearn.linear_model import LinearRegression\n",
    "from sklearn.metrics import mean_absolute_error , mean_squared_error , r2_score\n",
    "lm = LinearRegression()\n",
    "lm.fit(X_train , Y_train)\n",
    "lm.coef_\n",
    "cdf = pd.DataFrame(lm.coef_ , X.columns , columns=['Coef'])\n",
    "#print(cdf)\n",
    "\n",
    "y_pred = lm.predict(X_test)\n",
    "mean_absolute_error(Y_test, y_pred)\n",
    "\n",
    "\n",
    "\n",
    "\n"
   ]
  },
  {
   "cell_type": "code",
   "execution_count": 688,
   "id": "6190eb82",
   "metadata": {},
   "outputs": [
    {
     "data": {
      "text/plain": [
       "0.20296972574919558"
      ]
     },
     "execution_count": 688,
     "metadata": {},
     "output_type": "execute_result"
    }
   ],
   "source": [
    "mean_squared_error(Y_test , y_pred)"
   ]
  },
  {
   "cell_type": "code",
   "execution_count": 689,
   "id": "d887b669",
   "metadata": {},
   "outputs": [
    {
     "data": {
      "text/plain": [
       "0.7382837268421855"
      ]
     },
     "execution_count": 689,
     "metadata": {},
     "output_type": "execute_result"
    }
   ],
   "source": [
    "r2_score(Y_test , y_pred)"
   ]
  },
  {
   "cell_type": "code",
   "execution_count": 690,
   "id": "aba4a229",
   "metadata": {},
   "outputs": [
    {
     "data": {
      "text/plain": [
       "0.20271810072399224"
      ]
     },
     "execution_count": 690,
     "metadata": {},
     "output_type": "execute_result"
    }
   ],
   "source": [
    "from sklearn.ensemble import RandomForestRegressor\n",
    "rfr = RandomForestRegressor(random_state=13)\n",
    "rfr.fit(X_train , Y_train)\n",
    "y_pred = rfr.predict(X_test)\n",
    "from sklearn.metrics import mean_absolute_error , mean_squared_error , r2_score\n",
    "mean_absolute_error(Y_test, y_pred)\n"
   ]
  },
  {
   "cell_type": "code",
   "execution_count": 691,
   "id": "43c09f3e",
   "metadata": {},
   "outputs": [
    {
     "data": {
      "text/plain": [
       "0.1888054569248188"
      ]
     },
     "execution_count": 691,
     "metadata": {},
     "output_type": "execute_result"
    }
   ],
   "source": [
    "mean_squared_error(Y_test , y_pred)"
   ]
  },
  {
   "cell_type": "code",
   "execution_count": 692,
   "id": "222cfeda",
   "metadata": {},
   "outputs": [
    {
     "data": {
      "text/plain": [
       "0.7565476311512546"
      ]
     },
     "execution_count": 692,
     "metadata": {},
     "output_type": "execute_result"
    }
   ],
   "source": [
    "r2_score(Y_test , y_pred)\n"
   ]
  },
  {
   "cell_type": "code",
   "execution_count": 693,
   "id": "9f8e9c7b",
   "metadata": {},
   "outputs": [
    {
     "data": {
      "text/plain": [
       "0.2402201195005847"
      ]
     },
     "execution_count": 693,
     "metadata": {},
     "output_type": "execute_result"
    }
   ],
   "source": [
    "from xgboost import XGBRegressor\n",
    "xgb = XGBRegressor()\n",
    "xgb.fit(X_train , Y_train)\n",
    "y_pred = xgb.predict(X_test)\n",
    "mean_absolute_error(Y_test, y_pred)\n"
   ]
  },
  {
   "cell_type": "code",
   "execution_count": 694,
   "id": "0434ecae",
   "metadata": {},
   "outputs": [],
   "source": [
    "#y_pred_train = xgb.predict(X_train)\n",
    "#mean_absolute_error( Y_train, y_pred_train)"
   ]
  },
  {
   "cell_type": "code",
   "execution_count": 695,
   "id": "66c7cce7",
   "metadata": {},
   "outputs": [
    {
     "data": {
      "text/plain": [
       "0.21923809395913038"
      ]
     },
     "execution_count": 695,
     "metadata": {},
     "output_type": "execute_result"
    }
   ],
   "source": [
    "mean_squared_error(Y_test , y_pred)"
   ]
  },
  {
   "cell_type": "code",
   "execution_count": 696,
   "id": "73f00432",
   "metadata": {},
   "outputs": [
    {
     "data": {
      "text/plain": [
       "0.7173067230917625"
      ]
     },
     "execution_count": 696,
     "metadata": {},
     "output_type": "execute_result"
    }
   ],
   "source": [
    "r2_score(Y_test , y_pred)"
   ]
  },
  {
   "cell_type": "code",
   "execution_count": 697,
   "id": "bd23d7f3",
   "metadata": {},
   "outputs": [
    {
     "data": {
      "text/plain": [
       "0.43597461865695875"
      ]
     },
     "execution_count": 697,
     "metadata": {},
     "output_type": "execute_result"
    }
   ],
   "source": [
    "from sklearn.svm import SVR\n",
    "\n",
    "svr = SVR()\n",
    "svr.fit(X_train , Y_train)\n",
    "\n",
    "y_pred = svr.predict(X_test)\n",
    "mean_absolute_error(Y_test , y_pred)"
   ]
  },
  {
   "cell_type": "code",
   "execution_count": 698,
   "id": "e83e3848",
   "metadata": {},
   "outputs": [
    {
     "data": {
      "text/plain": [
       "0.596273624993249"
      ]
     },
     "execution_count": 698,
     "metadata": {},
     "output_type": "execute_result"
    }
   ],
   "source": [
    "mean_squared_error(Y_test , y_pred)"
   ]
  },
  {
   "cell_type": "code",
   "execution_count": 699,
   "id": "79eb4e5b",
   "metadata": {},
   "outputs": [
    {
     "data": {
      "text/plain": [
       "0.23114390414871067"
      ]
     },
     "execution_count": 699,
     "metadata": {},
     "output_type": "execute_result"
    }
   ],
   "source": [
    "r2_score(Y_test , y_pred)"
   ]
  },
  {
   "cell_type": "code",
   "execution_count": 700,
   "id": "41730068",
   "metadata": {},
   "outputs": [
    {
     "name": "stdout",
     "output_type": "stream",
     "text": [
      "Best Hyperparameters: {'copy_X': True, 'fit_intercept': True, 'positive': False}\n",
      "Best Score: 0.7683697641892812\n"
     ]
    }
   ],
   "source": [
    "from sklearn.model_selection import GridSearchCV\n",
    "\n",
    "param_space = {'copy_X': [True,False], \n",
    "               'fit_intercept': [True,False], \n",
    "               'positive': [True,False]}\n",
    "model = LinearRegression()\n",
    "grid_search = GridSearchCV(model, param_space, cv=5)\n",
    "grid_search.fit(X_train, Y_train)\n",
    "print(f\"Best Hyperparameters: {grid_search.best_params_}\")\n",
    "print(f\"Best Score: {grid_search.best_score_}\")\n",
    "\n",
    "\n",
    "\n",
    "\n"
   ]
  },
  {
   "cell_type": "code",
   "execution_count": 701,
   "id": "c33fc9b8",
   "metadata": {},
   "outputs": [
    {
     "data": {
      "text/plain": [
       "0.27305141444118214"
      ]
     },
     "execution_count": 701,
     "metadata": {},
     "output_type": "execute_result"
    }
   ],
   "source": [
    "params = {'copy_X': True, \n",
    "               'fit_intercept': True, \n",
    "               'positive': False}\n",
    "\n",
    "lnr = LinearRegression(**params)\n",
    "lnr.fit(X_train , Y_train)\n",
    "y_pred = lnr.predict(X_test)\n",
    "mean_absolute_error(Y_test, y_pred)"
   ]
  },
  {
   "cell_type": "code",
   "execution_count": 702,
   "id": "94481754",
   "metadata": {},
   "outputs": [
    {
     "data": {
      "text/plain": [
       "0.20296972574919558"
      ]
     },
     "execution_count": 702,
     "metadata": {},
     "output_type": "execute_result"
    }
   ],
   "source": [
    "mean_squared_error(Y_test, y_pred)"
   ]
  },
  {
   "cell_type": "code",
   "execution_count": 703,
   "id": "4b834922",
   "metadata": {},
   "outputs": [
    {
     "data": {
      "text/plain": [
       "0.7382837268421855"
      ]
     },
     "execution_count": 703,
     "metadata": {},
     "output_type": "execute_result"
    }
   ],
   "source": [
    "r2_score(Y_test, y_pred)"
   ]
  },
  {
   "cell_type": "code",
   "execution_count": null,
   "id": "e42f6cf9",
   "metadata": {},
   "outputs": [
    {
     "name": "stdout",
     "output_type": "stream",
     "text": [
      "Best Hyperparameters: {'max_depth': 10, 'min_samples_split': 10, 'n_estimators': 300}\n",
      "Best Score: 0.8335734119936016\n"
     ]
    }
   ],
   "source": [
    "\n",
    "param_grid = {\n",
    "    'n_estimators': [100, 200, 300],  # Number of trees in the forest\n",
    "    'max_depth': [ 10, 20, 30],  # Maximum depth of the tree\n",
    "    'min_samples_split': [2, 5, 10],  # Minimum number of samples required to split an internal node\n",
    "}\n",
    "model = RandomForestRegressor(random_state=42)\n",
    "grid_search = GridSearchCV(model, param_grid, cv=5 , n_jobs=-1)\n",
    "grid_search.fit(X_train, Y_train)\n",
    "print(f\"Best Hyperparameters: {grid_search.best_params_}\")\n",
    "print(f\"Best Score: {grid_search.best_score_}\")"
   ]
  },
  {
   "cell_type": "code",
   "execution_count": 705,
   "id": "67e2b27f",
   "metadata": {},
   "outputs": [
    {
     "data": {
      "text/plain": [
       "0.2088028884673661"
      ]
     },
     "execution_count": 705,
     "metadata": {},
     "output_type": "execute_result"
    }
   ],
   "source": [
    "params = {\n",
    "    'n_estimators': 300,  # Number of trees in the forest\n",
    "    'max_depth': 10,  # Maximum depth of the tree\n",
    "    'min_samples_split':  10,  # Minimum number of samples required to split an internal node\n",
    "}\n",
    "\n",
    "rd = RandomForestRegressor(**params)\n",
    "rd.fit(X_train , Y_train)\n",
    "y_pred = rd.predict(X_test)\n",
    "mean_absolute_error(Y_test, y_pred)"
   ]
  },
  {
   "cell_type": "code",
   "execution_count": 706,
   "id": "c7dad3b3",
   "metadata": {},
   "outputs": [
    {
     "data": {
      "text/plain": [
       "0.17936578175309442"
      ]
     },
     "execution_count": 706,
     "metadata": {},
     "output_type": "execute_result"
    }
   ],
   "source": [
    "mean_squared_error(Y_test, y_pred)\n"
   ]
  },
  {
   "cell_type": "code",
   "execution_count": 707,
   "id": "f36c6ac9",
   "metadata": {},
   "outputs": [
    {
     "data": {
      "text/plain": [
       "0.7687194789312374"
      ]
     },
     "execution_count": 707,
     "metadata": {},
     "output_type": "execute_result"
    }
   ],
   "source": [
    "r2_score(Y_test, y_pred)\n"
   ]
  }
 ],
 "metadata": {
  "kernelspec": {
   "display_name": "Python 3",
   "language": "python",
   "name": "python3"
  },
  "language_info": {
   "codemirror_mode": {
    "name": "ipython",
    "version": 3
   },
   "file_extension": ".py",
   "mimetype": "text/x-python",
   "name": "python",
   "nbconvert_exporter": "python",
   "pygments_lexer": "ipython3",
   "version": "3.13.7"
  }
 },
 "nbformat": 4,
 "nbformat_minor": 5
}
